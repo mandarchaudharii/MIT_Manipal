{
 "cells": [
  {
   "cell_type": "code",
   "execution_count": 1,
   "id": "87b61228",
   "metadata": {},
   "outputs": [],
   "source": [
    "import pandas as pd\n",
    "import numpy as np\n",
    "import matplotlib.pyplot as plt\n",
    "import seaborn as sns\n",
    "from sklearn.model_selection import train_test_split\n",
    "from sklearn.preprocessing import StandardScaler\n",
    "from sklearn.neighbors import KNeighborsClassifier\n",
    "from sklearn.metrics import accuracy_score, confusion_matrix, classification_report, roc_curve, roc_auc_score\n",
    "from sklearn.model_selection import cross_val_score, KFold\n",
    "from tabulate import tabulate\n",
    "from sklearn.metrics import precision_score, recall_score, f1_score"
   ]
  },
  {
   "cell_type": "markdown",
   "id": "36e87190",
   "metadata": {},
   "source": [
    "## 1. Dataset: Iris Dataset"
   ]
  },
  {
   "cell_type": "code",
   "execution_count": 2,
   "id": "c272d38e",
   "metadata": {},
   "outputs": [
    {
     "data": {
      "text/html": [
       "<div>\n",
       "<style scoped>\n",
       "    .dataframe tbody tr th:only-of-type {\n",
       "        vertical-align: middle;\n",
       "    }\n",
       "\n",
       "    .dataframe tbody tr th {\n",
       "        vertical-align: top;\n",
       "    }\n",
       "\n",
       "    .dataframe thead th {\n",
       "        text-align: right;\n",
       "    }\n",
       "</style>\n",
       "<table border=\"1\" class=\"dataframe\">\n",
       "  <thead>\n",
       "    <tr style=\"text-align: right;\">\n",
       "      <th></th>\n",
       "      <th>Id</th>\n",
       "      <th>SepalLengthCm</th>\n",
       "      <th>SepalWidthCm</th>\n",
       "      <th>PetalLengthCm</th>\n",
       "      <th>PetalWidthCm</th>\n",
       "      <th>Species</th>\n",
       "    </tr>\n",
       "  </thead>\n",
       "  <tbody>\n",
       "    <tr>\n",
       "      <th>0</th>\n",
       "      <td>1</td>\n",
       "      <td>5.1</td>\n",
       "      <td>3.5</td>\n",
       "      <td>1.4</td>\n",
       "      <td>0.2</td>\n",
       "      <td>Iris-setosa</td>\n",
       "    </tr>\n",
       "    <tr>\n",
       "      <th>1</th>\n",
       "      <td>2</td>\n",
       "      <td>4.9</td>\n",
       "      <td>3.0</td>\n",
       "      <td>1.4</td>\n",
       "      <td>0.2</td>\n",
       "      <td>Iris-setosa</td>\n",
       "    </tr>\n",
       "    <tr>\n",
       "      <th>2</th>\n",
       "      <td>3</td>\n",
       "      <td>4.7</td>\n",
       "      <td>3.2</td>\n",
       "      <td>1.3</td>\n",
       "      <td>0.2</td>\n",
       "      <td>Iris-setosa</td>\n",
       "    </tr>\n",
       "    <tr>\n",
       "      <th>3</th>\n",
       "      <td>4</td>\n",
       "      <td>4.6</td>\n",
       "      <td>3.1</td>\n",
       "      <td>1.5</td>\n",
       "      <td>0.2</td>\n",
       "      <td>Iris-setosa</td>\n",
       "    </tr>\n",
       "    <tr>\n",
       "      <th>4</th>\n",
       "      <td>5</td>\n",
       "      <td>5.0</td>\n",
       "      <td>3.6</td>\n",
       "      <td>1.4</td>\n",
       "      <td>0.2</td>\n",
       "      <td>Iris-setosa</td>\n",
       "    </tr>\n",
       "    <tr>\n",
       "      <th>...</th>\n",
       "      <td>...</td>\n",
       "      <td>...</td>\n",
       "      <td>...</td>\n",
       "      <td>...</td>\n",
       "      <td>...</td>\n",
       "      <td>...</td>\n",
       "    </tr>\n",
       "    <tr>\n",
       "      <th>145</th>\n",
       "      <td>146</td>\n",
       "      <td>6.7</td>\n",
       "      <td>3.0</td>\n",
       "      <td>5.2</td>\n",
       "      <td>2.3</td>\n",
       "      <td>Iris-virginica</td>\n",
       "    </tr>\n",
       "    <tr>\n",
       "      <th>146</th>\n",
       "      <td>147</td>\n",
       "      <td>6.3</td>\n",
       "      <td>2.5</td>\n",
       "      <td>5.0</td>\n",
       "      <td>1.9</td>\n",
       "      <td>Iris-virginica</td>\n",
       "    </tr>\n",
       "    <tr>\n",
       "      <th>147</th>\n",
       "      <td>148</td>\n",
       "      <td>6.5</td>\n",
       "      <td>3.0</td>\n",
       "      <td>5.2</td>\n",
       "      <td>2.0</td>\n",
       "      <td>Iris-virginica</td>\n",
       "    </tr>\n",
       "    <tr>\n",
       "      <th>148</th>\n",
       "      <td>149</td>\n",
       "      <td>6.2</td>\n",
       "      <td>3.4</td>\n",
       "      <td>5.4</td>\n",
       "      <td>2.3</td>\n",
       "      <td>Iris-virginica</td>\n",
       "    </tr>\n",
       "    <tr>\n",
       "      <th>149</th>\n",
       "      <td>150</td>\n",
       "      <td>5.9</td>\n",
       "      <td>3.0</td>\n",
       "      <td>5.1</td>\n",
       "      <td>1.8</td>\n",
       "      <td>Iris-virginica</td>\n",
       "    </tr>\n",
       "  </tbody>\n",
       "</table>\n",
       "<p>150 rows × 6 columns</p>\n",
       "</div>"
      ],
      "text/plain": [
       "      Id  SepalLengthCm  SepalWidthCm  PetalLengthCm  PetalWidthCm  \\\n",
       "0      1            5.1           3.5            1.4           0.2   \n",
       "1      2            4.9           3.0            1.4           0.2   \n",
       "2      3            4.7           3.2            1.3           0.2   \n",
       "3      4            4.6           3.1            1.5           0.2   \n",
       "4      5            5.0           3.6            1.4           0.2   \n",
       "..   ...            ...           ...            ...           ...   \n",
       "145  146            6.7           3.0            5.2           2.3   \n",
       "146  147            6.3           2.5            5.0           1.9   \n",
       "147  148            6.5           3.0            5.2           2.0   \n",
       "148  149            6.2           3.4            5.4           2.3   \n",
       "149  150            5.9           3.0            5.1           1.8   \n",
       "\n",
       "            Species  \n",
       "0       Iris-setosa  \n",
       "1       Iris-setosa  \n",
       "2       Iris-setosa  \n",
       "3       Iris-setosa  \n",
       "4       Iris-setosa  \n",
       "..              ...  \n",
       "145  Iris-virginica  \n",
       "146  Iris-virginica  \n",
       "147  Iris-virginica  \n",
       "148  Iris-virginica  \n",
       "149  Iris-virginica  \n",
       "\n",
       "[150 rows x 6 columns]"
      ]
     },
     "execution_count": 2,
     "metadata": {},
     "output_type": "execute_result"
    }
   ],
   "source": [
    "df=pd.read_csv(\"Iris.csv\")\n",
    "\n",
    "df"
   ]
  },
  {
   "cell_type": "markdown",
   "id": "c540df89",
   "metadata": {},
   "source": [
    "## 3. Drop redundant columns"
   ]
  },
  {
   "cell_type": "code",
   "execution_count": 3,
   "id": "7cc0bd3f",
   "metadata": {},
   "outputs": [
    {
     "data": {
      "text/html": [
       "<div>\n",
       "<style scoped>\n",
       "    .dataframe tbody tr th:only-of-type {\n",
       "        vertical-align: middle;\n",
       "    }\n",
       "\n",
       "    .dataframe tbody tr th {\n",
       "        vertical-align: top;\n",
       "    }\n",
       "\n",
       "    .dataframe thead th {\n",
       "        text-align: right;\n",
       "    }\n",
       "</style>\n",
       "<table border=\"1\" class=\"dataframe\">\n",
       "  <thead>\n",
       "    <tr style=\"text-align: right;\">\n",
       "      <th></th>\n",
       "      <th>SepalLengthCm</th>\n",
       "      <th>SepalWidthCm</th>\n",
       "      <th>PetalLengthCm</th>\n",
       "      <th>PetalWidthCm</th>\n",
       "      <th>Species</th>\n",
       "    </tr>\n",
       "  </thead>\n",
       "  <tbody>\n",
       "    <tr>\n",
       "      <th>0</th>\n",
       "      <td>5.1</td>\n",
       "      <td>3.5</td>\n",
       "      <td>1.4</td>\n",
       "      <td>0.2</td>\n",
       "      <td>Iris-setosa</td>\n",
       "    </tr>\n",
       "    <tr>\n",
       "      <th>1</th>\n",
       "      <td>4.9</td>\n",
       "      <td>3.0</td>\n",
       "      <td>1.4</td>\n",
       "      <td>0.2</td>\n",
       "      <td>Iris-setosa</td>\n",
       "    </tr>\n",
       "    <tr>\n",
       "      <th>2</th>\n",
       "      <td>4.7</td>\n",
       "      <td>3.2</td>\n",
       "      <td>1.3</td>\n",
       "      <td>0.2</td>\n",
       "      <td>Iris-setosa</td>\n",
       "    </tr>\n",
       "    <tr>\n",
       "      <th>3</th>\n",
       "      <td>4.6</td>\n",
       "      <td>3.1</td>\n",
       "      <td>1.5</td>\n",
       "      <td>0.2</td>\n",
       "      <td>Iris-setosa</td>\n",
       "    </tr>\n",
       "    <tr>\n",
       "      <th>4</th>\n",
       "      <td>5.0</td>\n",
       "      <td>3.6</td>\n",
       "      <td>1.4</td>\n",
       "      <td>0.2</td>\n",
       "      <td>Iris-setosa</td>\n",
       "    </tr>\n",
       "    <tr>\n",
       "      <th>...</th>\n",
       "      <td>...</td>\n",
       "      <td>...</td>\n",
       "      <td>...</td>\n",
       "      <td>...</td>\n",
       "      <td>...</td>\n",
       "    </tr>\n",
       "    <tr>\n",
       "      <th>145</th>\n",
       "      <td>6.7</td>\n",
       "      <td>3.0</td>\n",
       "      <td>5.2</td>\n",
       "      <td>2.3</td>\n",
       "      <td>Iris-virginica</td>\n",
       "    </tr>\n",
       "    <tr>\n",
       "      <th>146</th>\n",
       "      <td>6.3</td>\n",
       "      <td>2.5</td>\n",
       "      <td>5.0</td>\n",
       "      <td>1.9</td>\n",
       "      <td>Iris-virginica</td>\n",
       "    </tr>\n",
       "    <tr>\n",
       "      <th>147</th>\n",
       "      <td>6.5</td>\n",
       "      <td>3.0</td>\n",
       "      <td>5.2</td>\n",
       "      <td>2.0</td>\n",
       "      <td>Iris-virginica</td>\n",
       "    </tr>\n",
       "    <tr>\n",
       "      <th>148</th>\n",
       "      <td>6.2</td>\n",
       "      <td>3.4</td>\n",
       "      <td>5.4</td>\n",
       "      <td>2.3</td>\n",
       "      <td>Iris-virginica</td>\n",
       "    </tr>\n",
       "    <tr>\n",
       "      <th>149</th>\n",
       "      <td>5.9</td>\n",
       "      <td>3.0</td>\n",
       "      <td>5.1</td>\n",
       "      <td>1.8</td>\n",
       "      <td>Iris-virginica</td>\n",
       "    </tr>\n",
       "  </tbody>\n",
       "</table>\n",
       "<p>150 rows × 5 columns</p>\n",
       "</div>"
      ],
      "text/plain": [
       "     SepalLengthCm  SepalWidthCm  PetalLengthCm  PetalWidthCm         Species\n",
       "0              5.1           3.5            1.4           0.2     Iris-setosa\n",
       "1              4.9           3.0            1.4           0.2     Iris-setosa\n",
       "2              4.7           3.2            1.3           0.2     Iris-setosa\n",
       "3              4.6           3.1            1.5           0.2     Iris-setosa\n",
       "4              5.0           3.6            1.4           0.2     Iris-setosa\n",
       "..             ...           ...            ...           ...             ...\n",
       "145            6.7           3.0            5.2           2.3  Iris-virginica\n",
       "146            6.3           2.5            5.0           1.9  Iris-virginica\n",
       "147            6.5           3.0            5.2           2.0  Iris-virginica\n",
       "148            6.2           3.4            5.4           2.3  Iris-virginica\n",
       "149            5.9           3.0            5.1           1.8  Iris-virginica\n",
       "\n",
       "[150 rows x 5 columns]"
      ]
     },
     "execution_count": 3,
     "metadata": {},
     "output_type": "execute_result"
    }
   ],
   "source": [
    "df.drop('Id', axis=1, inplace=True)\n",
    "\n",
    "df"
   ]
  },
  {
   "cell_type": "markdown",
   "id": "e5489a23",
   "metadata": {},
   "source": [
    "## 4. View the summary of the dataset"
   ]
  },
  {
   "cell_type": "code",
   "execution_count": 4,
   "id": "d42c525d",
   "metadata": {},
   "outputs": [
    {
     "name": "stdout",
     "output_type": "stream",
     "text": [
      "Summary of the dataset:\n",
      "       SepalLengthCm  SepalWidthCm  PetalLengthCm  PetalWidthCm\n",
      "count     150.000000    150.000000     150.000000    150.000000\n",
      "mean        5.843333      3.054000       3.758667      1.198667\n",
      "std         0.828066      0.433594       1.764420      0.763161\n",
      "min         4.300000      2.000000       1.000000      0.100000\n",
      "25%         5.100000      2.800000       1.600000      0.300000\n",
      "50%         5.800000      3.000000       4.350000      1.300000\n",
      "75%         6.400000      3.300000       5.100000      1.800000\n",
      "max         7.900000      4.400000       6.900000      2.500000\n",
      "\n",
      "Summary of the dataset:\n",
      "<class 'pandas.core.frame.DataFrame'>\n",
      "RangeIndex: 150 entries, 0 to 149\n",
      "Data columns (total 5 columns):\n",
      " #   Column         Non-Null Count  Dtype  \n",
      "---  ------         --------------  -----  \n",
      " 0   SepalLengthCm  150 non-null    float64\n",
      " 1   SepalWidthCm   150 non-null    float64\n",
      " 2   PetalLengthCm  150 non-null    float64\n",
      " 3   PetalWidthCm   150 non-null    float64\n",
      " 4   Species        150 non-null    object \n",
      "dtypes: float64(4), object(1)\n",
      "memory usage: 6.0+ KB\n",
      "None\n"
     ]
    }
   ],
   "source": [
    "print(\"Summary of the dataset:\")\n",
    "print(df.describe())\n",
    "print()\n",
    "print(\"Summary of the dataset:\")\n",
    "print(df.info())"
   ]
  },
  {
   "cell_type": "markdown",
   "id": "41ce73f4",
   "metadata": {},
   "source": [
    "## 7. Check data types of columns of data frame"
   ]
  },
  {
   "cell_type": "code",
   "execution_count": 5,
   "id": "5640590c",
   "metadata": {},
   "outputs": [
    {
     "name": "stdout",
     "output_type": "stream",
     "text": [
      "Data types of columns:\n",
      "SepalLengthCm    float64\n",
      "SepalWidthCm     float64\n",
      "PetalLengthCm    float64\n",
      "PetalWidthCm     float64\n",
      "Species           object\n",
      "dtype: object\n"
     ]
    }
   ],
   "source": [
    "print(\"Data types of columns:\")\n",
    "print(df.dtypes)"
   ]
  },
  {
   "cell_type": "markdown",
   "id": "103e73cd",
   "metadata": {},
   "source": [
    "## 8. Identify Missing values, NAN in variables"
   ]
  },
  {
   "cell_type": "code",
   "execution_count": 6,
   "id": "10baac3a",
   "metadata": {},
   "outputs": [
    {
     "name": "stdout",
     "output_type": "stream",
     "text": [
      "Missing values count:\n",
      "SepalLengthCm    0\n",
      "SepalWidthCm     0\n",
      "PetalLengthCm    0\n",
      "PetalWidthCm     0\n",
      "Species          0\n",
      "dtype: int64\n"
     ]
    }
   ],
   "source": [
    "print(\"Missing values count:\")\n",
    "print(df.isnull().sum())"
   ]
  },
  {
   "cell_type": "markdown",
   "id": "7e5af160",
   "metadata": {},
   "source": [
    "## 9. Check the distribution of variables using histograms"
   ]
  },
  {
   "cell_type": "code",
   "execution_count": 7,
   "id": "5e1efb84",
   "metadata": {},
   "outputs": [
    {
     "data": {
      "image/png": "[encoded data removed]",
      "text/plain": [
       "<Figure size 1000x1000 with 4 Axes>"
      ]
     },
     "metadata": {},
     "output_type": "display_data"
    },
    {
     "data": {
      "image/png": "[encoded data removed]",
      "text/plain": [
       "<Figure size 640x480 with 1 Axes>"
      ]
     },
     "metadata": {},
     "output_type": "display_data"
    }
   ],
   "source": [
    "df.hist(figsize=(10, 10))\n",
    "plt.show()\n",
    "plt.hist(x=df['Species'])\n",
    "plt.show()"
   ]
  },
  {
   "cell_type": "markdown",
   "id": "420898f4",
   "metadata": {},
   "source": [
    "## 10. Estimate correlation coefficients and represent using heatmaps"
   ]
  },
  {
   "cell_type": "code",
   "execution_count": 8,
   "id": "5993af38",
   "metadata": {},
   "outputs": [
    {
     "data": {
      "image/png": "[encoded data removed]",
      "text/plain": [
       "<Figure size 1000x800 with 2 Axes>"
      ]
     },
     "metadata": {},
     "output_type": "display_data"
    }
   ],
   "source": [
    "df2 = df.drop('Species',axis=1)\n",
    "corr = df2.corr()\n",
    "plt.figure(figsize=(10, 8))\n",
    "sns.heatmap(corr, annot=True, cmap='coolwarm', fmt=\".2f\")\n",
    "plt.title('Correlation Heatmap')\n",
    "plt.show()"
   ]
  },
  {
   "cell_type": "code",
   "execution_count": 9,
   "id": "7967d98e",
   "metadata": {},
   "outputs": [
    {
     "data": {
      "text/plain": [
       "Species\n",
       "Iris-setosa        50\n",
       "Iris-versicolor    50\n",
       "Iris-virginica     50\n",
       "Name: count, dtype: int64"
      ]
     },
     "execution_count": 9,
     "metadata": {},
     "output_type": "execute_result"
    }
   ],
   "source": [
    "df[\"Species\"].value_counts()"
   ]
  },
  {
   "cell_type": "code",
   "execution_count": 10,
   "id": "bd81a0a5",
   "metadata": {},
   "outputs": [],
   "source": [
    "df[\"Species\"]=df[\"Species\"].map({\"Iris-setosa\":0,\"Iris-versicolor\":1,\"Iris-virginica\":2})"
   ]
  },
  {
   "cell_type": "code",
   "execution_count": 11,
   "id": "3b5270af",
   "metadata": {},
   "outputs": [
    {
     "data": {
      "text/html": [
       "<div>\n",
       "<style scoped>\n",
       "    .dataframe tbody tr th:only-of-type {\n",
       "        vertical-align: middle;\n",
       "    }\n",
       "\n",
       "    .dataframe tbody tr th {\n",
       "        vertical-align: top;\n",
       "    }\n",
       "\n",
       "    .dataframe thead th {\n",
       "        text-align: right;\n",
       "    }\n",
       "</style>\n",
       "<table border=\"1\" class=\"dataframe\">\n",
       "  <thead>\n",
       "    <tr style=\"text-align: right;\">\n",
       "      <th></th>\n",
       "      <th>SepalLengthCm</th>\n",
       "      <th>SepalWidthCm</th>\n",
       "      <th>PetalLengthCm</th>\n",
       "      <th>PetalWidthCm</th>\n",
       "      <th>Species</th>\n",
       "    </tr>\n",
       "  </thead>\n",
       "  <tbody>\n",
       "    <tr>\n",
       "      <th>0</th>\n",
       "      <td>5.1</td>\n",
       "      <td>3.5</td>\n",
       "      <td>1.4</td>\n",
       "      <td>0.2</td>\n",
       "      <td>0</td>\n",
       "    </tr>\n",
       "    <tr>\n",
       "      <th>1</th>\n",
       "      <td>4.9</td>\n",
       "      <td>3.0</td>\n",
       "      <td>1.4</td>\n",
       "      <td>0.2</td>\n",
       "      <td>0</td>\n",
       "    </tr>\n",
       "    <tr>\n",
       "      <th>2</th>\n",
       "      <td>4.7</td>\n",
       "      <td>3.2</td>\n",
       "      <td>1.3</td>\n",
       "      <td>0.2</td>\n",
       "      <td>0</td>\n",
       "    </tr>\n",
       "    <tr>\n",
       "      <th>3</th>\n",
       "      <td>4.6</td>\n",
       "      <td>3.1</td>\n",
       "      <td>1.5</td>\n",
       "      <td>0.2</td>\n",
       "      <td>0</td>\n",
       "    </tr>\n",
       "    <tr>\n",
       "      <th>4</th>\n",
       "      <td>5.0</td>\n",
       "      <td>3.6</td>\n",
       "      <td>1.4</td>\n",
       "      <td>0.2</td>\n",
       "      <td>0</td>\n",
       "    </tr>\n",
       "    <tr>\n",
       "      <th>...</th>\n",
       "      <td>...</td>\n",
       "      <td>...</td>\n",
       "      <td>...</td>\n",
       "      <td>...</td>\n",
       "      <td>...</td>\n",
       "    </tr>\n",
       "    <tr>\n",
       "      <th>145</th>\n",
       "      <td>6.7</td>\n",
       "      <td>3.0</td>\n",
       "      <td>5.2</td>\n",
       "      <td>2.3</td>\n",
       "      <td>2</td>\n",
       "    </tr>\n",
       "    <tr>\n",
       "      <th>146</th>\n",
       "      <td>6.3</td>\n",
       "      <td>2.5</td>\n",
       "      <td>5.0</td>\n",
       "      <td>1.9</td>\n",
       "      <td>2</td>\n",
       "    </tr>\n",
       "    <tr>\n",
       "      <th>147</th>\n",
       "      <td>6.5</td>\n",
       "      <td>3.0</td>\n",
       "      <td>5.2</td>\n",
       "      <td>2.0</td>\n",
       "      <td>2</td>\n",
       "    </tr>\n",
       "    <tr>\n",
       "      <th>148</th>\n",
       "      <td>6.2</td>\n",
       "      <td>3.4</td>\n",
       "      <td>5.4</td>\n",
       "      <td>2.3</td>\n",
       "      <td>2</td>\n",
       "    </tr>\n",
       "    <tr>\n",
       "      <th>149</th>\n",
       "      <td>5.9</td>\n",
       "      <td>3.0</td>\n",
       "      <td>5.1</td>\n",
       "      <td>1.8</td>\n",
       "      <td>2</td>\n",
       "    </tr>\n",
       "  </tbody>\n",
       "</table>\n",
       "<p>150 rows × 5 columns</p>\n",
       "</div>"
      ],
      "text/plain": [
       "     SepalLengthCm  SepalWidthCm  PetalLengthCm  PetalWidthCm  Species\n",
       "0              5.1           3.5            1.4           0.2        0\n",
       "1              4.9           3.0            1.4           0.2        0\n",
       "2              4.7           3.2            1.3           0.2        0\n",
       "3              4.6           3.1            1.5           0.2        0\n",
       "4              5.0           3.6            1.4           0.2        0\n",
       "..             ...           ...            ...           ...      ...\n",
       "145            6.7           3.0            5.2           2.3        2\n",
       "146            6.3           2.5            5.0           1.9        2\n",
       "147            6.5           3.0            5.2           2.0        2\n",
       "148            6.2           3.4            5.4           2.3        2\n",
       "149            5.9           3.0            5.1           1.8        2\n",
       "\n",
       "[150 rows x 5 columns]"
      ]
     },
     "execution_count": 11,
     "metadata": {},
     "output_type": "execute_result"
    }
   ],
   "source": [
    "df"
   ]
  },
  {
   "cell_type": "markdown",
   "id": "5d84eea1",
   "metadata": {},
   "source": [
    "## 11. Declare feature vector and target variable"
   ]
  },
  {
   "cell_type": "code",
   "execution_count": 12,
   "id": "7aa102a4",
   "metadata": {
    "scrolled": true
   },
   "outputs": [],
   "source": [
    "y = df['Species']\n",
    "X = df.drop('Species', axis=1)"
   ]
  },
  {
   "cell_type": "code",
   "execution_count": 13,
   "id": "776ecb01",
   "metadata": {},
   "outputs": [
    {
     "data": {
      "text/html": [
       "<div>\n",
       "<style scoped>\n",
       "    .dataframe tbody tr th:only-of-type {\n",
       "        vertical-align: middle;\n",
       "    }\n",
       "\n",
       "    .dataframe tbody tr th {\n",
       "        vertical-align: top;\n",
       "    }\n",
       "\n",
       "    .dataframe thead th {\n",
       "        text-align: right;\n",
       "    }\n",
       "</style>\n",
       "<table border=\"1\" class=\"dataframe\">\n",
       "  <thead>\n",
       "    <tr style=\"text-align: right;\">\n",
       "      <th></th>\n",
       "      <th>SepalLengthCm</th>\n",
       "      <th>SepalWidthCm</th>\n",
       "      <th>PetalLengthCm</th>\n",
       "      <th>PetalWidthCm</th>\n",
       "    </tr>\n",
       "  </thead>\n",
       "  <tbody>\n",
       "    <tr>\n",
       "      <th>0</th>\n",
       "      <td>5.1</td>\n",
       "      <td>3.5</td>\n",
       "      <td>1.4</td>\n",
       "      <td>0.2</td>\n",
       "    </tr>\n",
       "    <tr>\n",
       "      <th>1</th>\n",
       "      <td>4.9</td>\n",
       "      <td>3.0</td>\n",
       "      <td>1.4</td>\n",
       "      <td>0.2</td>\n",
       "    </tr>\n",
       "    <tr>\n",
       "      <th>2</th>\n",
       "      <td>4.7</td>\n",
       "      <td>3.2</td>\n",
       "      <td>1.3</td>\n",
       "      <td>0.2</td>\n",
       "    </tr>\n",
       "    <tr>\n",
       "      <th>3</th>\n",
       "      <td>4.6</td>\n",
       "      <td>3.1</td>\n",
       "      <td>1.5</td>\n",
       "      <td>0.2</td>\n",
       "    </tr>\n",
       "    <tr>\n",
       "      <th>4</th>\n",
       "      <td>5.0</td>\n",
       "      <td>3.6</td>\n",
       "      <td>1.4</td>\n",
       "      <td>0.2</td>\n",
       "    </tr>\n",
       "    <tr>\n",
       "      <th>...</th>\n",
       "      <td>...</td>\n",
       "      <td>...</td>\n",
       "      <td>...</td>\n",
       "      <td>...</td>\n",
       "    </tr>\n",
       "    <tr>\n",
       "      <th>145</th>\n",
       "      <td>6.7</td>\n",
       "      <td>3.0</td>\n",
       "      <td>5.2</td>\n",
       "      <td>2.3</td>\n",
       "    </tr>\n",
       "    <tr>\n",
       "      <th>146</th>\n",
       "      <td>6.3</td>\n",
       "      <td>2.5</td>\n",
       "      <td>5.0</td>\n",
       "      <td>1.9</td>\n",
       "    </tr>\n",
       "    <tr>\n",
       "      <th>147</th>\n",
       "      <td>6.5</td>\n",
       "      <td>3.0</td>\n",
       "      <td>5.2</td>\n",
       "      <td>2.0</td>\n",
       "    </tr>\n",
       "    <tr>\n",
       "      <th>148</th>\n",
       "      <td>6.2</td>\n",
       "      <td>3.4</td>\n",
       "      <td>5.4</td>\n",
       "      <td>2.3</td>\n",
       "    </tr>\n",
       "    <tr>\n",
       "      <th>149</th>\n",
       "      <td>5.9</td>\n",
       "      <td>3.0</td>\n",
       "      <td>5.1</td>\n",
       "      <td>1.8</td>\n",
       "    </tr>\n",
       "  </tbody>\n",
       "</table>\n",
       "<p>150 rows × 4 columns</p>\n",
       "</div>"
      ],
      "text/plain": [
       "     SepalLengthCm  SepalWidthCm  PetalLengthCm  PetalWidthCm\n",
       "0              5.1           3.5            1.4           0.2\n",
       "1              4.9           3.0            1.4           0.2\n",
       "2              4.7           3.2            1.3           0.2\n",
       "3              4.6           3.1            1.5           0.2\n",
       "4              5.0           3.6            1.4           0.2\n",
       "..             ...           ...            ...           ...\n",
       "145            6.7           3.0            5.2           2.3\n",
       "146            6.3           2.5            5.0           1.9\n",
       "147            6.5           3.0            5.2           2.0\n",
       "148            6.2           3.4            5.4           2.3\n",
       "149            5.9           3.0            5.1           1.8\n",
       "\n",
       "[150 rows x 4 columns]"
      ]
     },
     "execution_count": 13,
     "metadata": {},
     "output_type": "execute_result"
    }
   ],
   "source": [
    "X"
   ]
  },
  {
   "cell_type": "code",
   "execution_count": 14,
   "id": "43505bcc",
   "metadata": {},
   "outputs": [
    {
     "data": {
      "text/plain": [
       "0      0\n",
       "1      0\n",
       "2      0\n",
       "3      0\n",
       "4      0\n",
       "      ..\n",
       "145    2\n",
       "146    2\n",
       "147    2\n",
       "148    2\n",
       "149    2\n",
       "Name: Species, Length: 150, dtype: int64"
      ]
     },
     "execution_count": 14,
     "metadata": {},
     "output_type": "execute_result"
    }
   ],
   "source": [
    "y"
   ]
  },
  {
   "cell_type": "markdown",
   "id": "f32a06c9",
   "metadata": {},
   "source": [
    "## 12. Split data into separate training and test set"
   ]
  },
  {
   "cell_type": "code",
   "execution_count": 15,
   "id": "1c7c7407",
   "metadata": {},
   "outputs": [],
   "source": [
    "X_train, X_test, y_train, y_test = train_test_split(X, y, test_size=0.2, random_state=5)"
   ]
  },
  {
   "cell_type": "code",
   "execution_count": 16,
   "id": "51caf64e",
   "metadata": {},
   "outputs": [
    {
     "data": {
      "text/html": [
       "<div>\n",
       "<style scoped>\n",
       "    .dataframe tbody tr th:only-of-type {\n",
       "        vertical-align: middle;\n",
       "    }\n",
       "\n",
       "    .dataframe tbody tr th {\n",
       "        vertical-align: top;\n",
       "    }\n",
       "\n",
       "    .dataframe thead th {\n",
       "        text-align: right;\n",
       "    }\n",
       "</style>\n",
       "<table border=\"1\" class=\"dataframe\">\n",
       "  <thead>\n",
       "    <tr style=\"text-align: right;\">\n",
       "      <th></th>\n",
       "      <th>SepalLengthCm</th>\n",
       "      <th>SepalWidthCm</th>\n",
       "      <th>PetalLengthCm</th>\n",
       "      <th>PetalWidthCm</th>\n",
       "    </tr>\n",
       "  </thead>\n",
       "  <tbody>\n",
       "    <tr>\n",
       "      <th>39</th>\n",
       "      <td>5.1</td>\n",
       "      <td>3.4</td>\n",
       "      <td>1.5</td>\n",
       "      <td>0.2</td>\n",
       "    </tr>\n",
       "    <tr>\n",
       "      <th>53</th>\n",
       "      <td>5.5</td>\n",
       "      <td>2.3</td>\n",
       "      <td>4.0</td>\n",
       "      <td>1.3</td>\n",
       "    </tr>\n",
       "    <tr>\n",
       "      <th>79</th>\n",
       "      <td>5.7</td>\n",
       "      <td>2.6</td>\n",
       "      <td>3.5</td>\n",
       "      <td>1.0</td>\n",
       "    </tr>\n",
       "    <tr>\n",
       "      <th>10</th>\n",
       "      <td>5.4</td>\n",
       "      <td>3.7</td>\n",
       "      <td>1.5</td>\n",
       "      <td>0.2</td>\n",
       "    </tr>\n",
       "    <tr>\n",
       "      <th>50</th>\n",
       "      <td>7.0</td>\n",
       "      <td>3.2</td>\n",
       "      <td>4.7</td>\n",
       "      <td>1.4</td>\n",
       "    </tr>\n",
       "    <tr>\n",
       "      <th>...</th>\n",
       "      <td>...</td>\n",
       "      <td>...</td>\n",
       "      <td>...</td>\n",
       "      <td>...</td>\n",
       "    </tr>\n",
       "    <tr>\n",
       "      <th>8</th>\n",
       "      <td>4.4</td>\n",
       "      <td>2.9</td>\n",
       "      <td>1.4</td>\n",
       "      <td>0.2</td>\n",
       "    </tr>\n",
       "    <tr>\n",
       "      <th>73</th>\n",
       "      <td>6.1</td>\n",
       "      <td>2.8</td>\n",
       "      <td>4.7</td>\n",
       "      <td>1.2</td>\n",
       "    </tr>\n",
       "    <tr>\n",
       "      <th>144</th>\n",
       "      <td>6.7</td>\n",
       "      <td>3.3</td>\n",
       "      <td>5.7</td>\n",
       "      <td>2.5</td>\n",
       "    </tr>\n",
       "    <tr>\n",
       "      <th>118</th>\n",
       "      <td>7.7</td>\n",
       "      <td>2.6</td>\n",
       "      <td>6.9</td>\n",
       "      <td>2.3</td>\n",
       "    </tr>\n",
       "    <tr>\n",
       "      <th>99</th>\n",
       "      <td>5.7</td>\n",
       "      <td>2.8</td>\n",
       "      <td>4.1</td>\n",
       "      <td>1.3</td>\n",
       "    </tr>\n",
       "  </tbody>\n",
       "</table>\n",
       "<p>120 rows × 4 columns</p>\n",
       "</div>"
      ],
      "text/plain": [
       "     SepalLengthCm  SepalWidthCm  PetalLengthCm  PetalWidthCm\n",
       "39             5.1           3.4            1.5           0.2\n",
       "53             5.5           2.3            4.0           1.3\n",
       "79             5.7           2.6            3.5           1.0\n",
       "10             5.4           3.7            1.5           0.2\n",
       "50             7.0           3.2            4.7           1.4\n",
       "..             ...           ...            ...           ...\n",
       "8              4.4           2.9            1.4           0.2\n",
       "73             6.1           2.8            4.7           1.2\n",
       "144            6.7           3.3            5.7           2.5\n",
       "118            7.7           2.6            6.9           2.3\n",
       "99             5.7           2.8            4.1           1.3\n",
       "\n",
       "[120 rows x 4 columns]"
      ]
     },
     "execution_count": 16,
     "metadata": {},
     "output_type": "execute_result"
    }
   ],
   "source": [
    "X_train"
   ]
  },
  {
   "cell_type": "code",
   "execution_count": 17,
   "id": "3c2b6a77",
   "metadata": {},
   "outputs": [
    {
     "data": {
      "text/html": [
       "<div>\n",
       "<style scoped>\n",
       "    .dataframe tbody tr th:only-of-type {\n",
       "        vertical-align: middle;\n",
       "    }\n",
       "\n",
       "    .dataframe tbody tr th {\n",
       "        vertical-align: top;\n",
       "    }\n",
       "\n",
       "    .dataframe thead th {\n",
       "        text-align: right;\n",
       "    }\n",
       "</style>\n",
       "<table border=\"1\" class=\"dataframe\">\n",
       "  <thead>\n",
       "    <tr style=\"text-align: right;\">\n",
       "      <th></th>\n",
       "      <th>SepalLengthCm</th>\n",
       "      <th>SepalWidthCm</th>\n",
       "      <th>PetalLengthCm</th>\n",
       "      <th>PetalWidthCm</th>\n",
       "    </tr>\n",
       "  </thead>\n",
       "  <tbody>\n",
       "    <tr>\n",
       "      <th>82</th>\n",
       "      <td>5.8</td>\n",
       "      <td>2.7</td>\n",
       "      <td>3.9</td>\n",
       "      <td>1.2</td>\n",
       "    </tr>\n",
       "    <tr>\n",
       "      <th>134</th>\n",
       "      <td>6.1</td>\n",
       "      <td>2.6</td>\n",
       "      <td>5.6</td>\n",
       "      <td>1.4</td>\n",
       "    </tr>\n",
       "    <tr>\n",
       "      <th>114</th>\n",
       "      <td>5.8</td>\n",
       "      <td>2.8</td>\n",
       "      <td>5.1</td>\n",
       "      <td>2.4</td>\n",
       "    </tr>\n",
       "    <tr>\n",
       "      <th>42</th>\n",
       "      <td>4.4</td>\n",
       "      <td>3.2</td>\n",
       "      <td>1.3</td>\n",
       "      <td>0.2</td>\n",
       "    </tr>\n",
       "    <tr>\n",
       "      <th>109</th>\n",
       "      <td>7.2</td>\n",
       "      <td>3.6</td>\n",
       "      <td>6.1</td>\n",
       "      <td>2.5</td>\n",
       "    </tr>\n",
       "    <tr>\n",
       "      <th>57</th>\n",
       "      <td>4.9</td>\n",
       "      <td>2.4</td>\n",
       "      <td>3.3</td>\n",
       "      <td>1.0</td>\n",
       "    </tr>\n",
       "    <tr>\n",
       "      <th>1</th>\n",
       "      <td>4.9</td>\n",
       "      <td>3.0</td>\n",
       "      <td>1.4</td>\n",
       "      <td>0.2</td>\n",
       "    </tr>\n",
       "    <tr>\n",
       "      <th>70</th>\n",
       "      <td>5.9</td>\n",
       "      <td>3.2</td>\n",
       "      <td>4.8</td>\n",
       "      <td>1.8</td>\n",
       "    </tr>\n",
       "    <tr>\n",
       "      <th>25</th>\n",
       "      <td>5.0</td>\n",
       "      <td>3.0</td>\n",
       "      <td>1.6</td>\n",
       "      <td>0.2</td>\n",
       "    </tr>\n",
       "    <tr>\n",
       "      <th>84</th>\n",
       "      <td>5.4</td>\n",
       "      <td>3.0</td>\n",
       "      <td>4.5</td>\n",
       "      <td>1.5</td>\n",
       "    </tr>\n",
       "    <tr>\n",
       "      <th>66</th>\n",
       "      <td>5.6</td>\n",
       "      <td>3.0</td>\n",
       "      <td>4.5</td>\n",
       "      <td>1.5</td>\n",
       "    </tr>\n",
       "    <tr>\n",
       "      <th>133</th>\n",
       "      <td>6.3</td>\n",
       "      <td>2.8</td>\n",
       "      <td>5.1</td>\n",
       "      <td>1.5</td>\n",
       "    </tr>\n",
       "    <tr>\n",
       "      <th>102</th>\n",
       "      <td>7.1</td>\n",
       "      <td>3.0</td>\n",
       "      <td>5.9</td>\n",
       "      <td>2.1</td>\n",
       "    </tr>\n",
       "    <tr>\n",
       "      <th>107</th>\n",
       "      <td>7.3</td>\n",
       "      <td>2.9</td>\n",
       "      <td>6.3</td>\n",
       "      <td>1.8</td>\n",
       "    </tr>\n",
       "    <tr>\n",
       "      <th>26</th>\n",
       "      <td>5.0</td>\n",
       "      <td>3.4</td>\n",
       "      <td>1.6</td>\n",
       "      <td>0.4</td>\n",
       "    </tr>\n",
       "    <tr>\n",
       "      <th>23</th>\n",
       "      <td>5.1</td>\n",
       "      <td>3.3</td>\n",
       "      <td>1.7</td>\n",
       "      <td>0.5</td>\n",
       "    </tr>\n",
       "    <tr>\n",
       "      <th>123</th>\n",
       "      <td>6.3</td>\n",
       "      <td>2.7</td>\n",
       "      <td>4.9</td>\n",
       "      <td>1.8</td>\n",
       "    </tr>\n",
       "    <tr>\n",
       "      <th>130</th>\n",
       "      <td>7.4</td>\n",
       "      <td>2.8</td>\n",
       "      <td>6.1</td>\n",
       "      <td>1.9</td>\n",
       "    </tr>\n",
       "    <tr>\n",
       "      <th>21</th>\n",
       "      <td>5.1</td>\n",
       "      <td>3.7</td>\n",
       "      <td>1.5</td>\n",
       "      <td>0.4</td>\n",
       "    </tr>\n",
       "    <tr>\n",
       "      <th>12</th>\n",
       "      <td>4.8</td>\n",
       "      <td>3.0</td>\n",
       "      <td>1.4</td>\n",
       "      <td>0.1</td>\n",
       "    </tr>\n",
       "    <tr>\n",
       "      <th>71</th>\n",
       "      <td>6.1</td>\n",
       "      <td>2.8</td>\n",
       "      <td>4.0</td>\n",
       "      <td>1.3</td>\n",
       "    </tr>\n",
       "    <tr>\n",
       "      <th>128</th>\n",
       "      <td>6.4</td>\n",
       "      <td>2.8</td>\n",
       "      <td>5.6</td>\n",
       "      <td>2.1</td>\n",
       "    </tr>\n",
       "    <tr>\n",
       "      <th>48</th>\n",
       "      <td>5.3</td>\n",
       "      <td>3.7</td>\n",
       "      <td>1.5</td>\n",
       "      <td>0.2</td>\n",
       "    </tr>\n",
       "    <tr>\n",
       "      <th>72</th>\n",
       "      <td>6.3</td>\n",
       "      <td>2.5</td>\n",
       "      <td>4.9</td>\n",
       "      <td>1.5</td>\n",
       "    </tr>\n",
       "    <tr>\n",
       "      <th>88</th>\n",
       "      <td>5.6</td>\n",
       "      <td>3.0</td>\n",
       "      <td>4.1</td>\n",
       "      <td>1.3</td>\n",
       "    </tr>\n",
       "    <tr>\n",
       "      <th>148</th>\n",
       "      <td>6.2</td>\n",
       "      <td>3.4</td>\n",
       "      <td>5.4</td>\n",
       "      <td>2.3</td>\n",
       "    </tr>\n",
       "    <tr>\n",
       "      <th>74</th>\n",
       "      <td>6.4</td>\n",
       "      <td>2.9</td>\n",
       "      <td>4.3</td>\n",
       "      <td>1.3</td>\n",
       "    </tr>\n",
       "    <tr>\n",
       "      <th>96</th>\n",
       "      <td>5.7</td>\n",
       "      <td>2.9</td>\n",
       "      <td>4.2</td>\n",
       "      <td>1.3</td>\n",
       "    </tr>\n",
       "    <tr>\n",
       "      <th>63</th>\n",
       "      <td>6.1</td>\n",
       "      <td>2.9</td>\n",
       "      <td>4.7</td>\n",
       "      <td>1.4</td>\n",
       "    </tr>\n",
       "    <tr>\n",
       "      <th>132</th>\n",
       "      <td>6.4</td>\n",
       "      <td>2.8</td>\n",
       "      <td>5.6</td>\n",
       "      <td>2.2</td>\n",
       "    </tr>\n",
       "  </tbody>\n",
       "</table>\n",
       "</div>"
      ],
      "text/plain": [
       "     SepalLengthCm  SepalWidthCm  PetalLengthCm  PetalWidthCm\n",
       "82             5.8           2.7            3.9           1.2\n",
       "134            6.1           2.6            5.6           1.4\n",
       "114            5.8           2.8            5.1           2.4\n",
       "42             4.4           3.2            1.3           0.2\n",
       "109            7.2           3.6            6.1           2.5\n",
       "57             4.9           2.4            3.3           1.0\n",
       "1              4.9           3.0            1.4           0.2\n",
       "70             5.9           3.2            4.8           1.8\n",
       "25             5.0           3.0            1.6           0.2\n",
       "84             5.4           3.0            4.5           1.5\n",
       "66             5.6           3.0            4.5           1.5\n",
       "133            6.3           2.8            5.1           1.5\n",
       "102            7.1           3.0            5.9           2.1\n",
       "107            7.3           2.9            6.3           1.8\n",
       "26             5.0           3.4            1.6           0.4\n",
       "23             5.1           3.3            1.7           0.5\n",
       "123            6.3           2.7            4.9           1.8\n",
       "130            7.4           2.8            6.1           1.9\n",
       "21             5.1           3.7            1.5           0.4\n",
       "12             4.8           3.0            1.4           0.1\n",
       "71             6.1           2.8            4.0           1.3\n",
       "128            6.4           2.8            5.6           2.1\n",
       "48             5.3           3.7            1.5           0.2\n",
       "72             6.3           2.5            4.9           1.5\n",
       "88             5.6           3.0            4.1           1.3\n",
       "148            6.2           3.4            5.4           2.3\n",
       "74             6.4           2.9            4.3           1.3\n",
       "96             5.7           2.9            4.2           1.3\n",
       "63             6.1           2.9            4.7           1.4\n",
       "132            6.4           2.8            5.6           2.2"
      ]
     },
     "execution_count": 17,
     "metadata": {},
     "output_type": "execute_result"
    }
   ],
   "source": [
    "X_test"
   ]
  },
  {
   "cell_type": "code",
   "execution_count": 18,
   "id": "46dd8ca6",
   "metadata": {},
   "outputs": [
    {
     "data": {
      "text/plain": [
       "39     0\n",
       "53     1\n",
       "79     1\n",
       "10     0\n",
       "50     1\n",
       "      ..\n",
       "8      0\n",
       "73     1\n",
       "144    2\n",
       "118    2\n",
       "99     1\n",
       "Name: Species, Length: 120, dtype: int64"
      ]
     },
     "execution_count": 18,
     "metadata": {},
     "output_type": "execute_result"
    }
   ],
   "source": [
    "y_train"
   ]
  },
  {
   "cell_type": "code",
   "execution_count": 19,
   "id": "8f1736d9",
   "metadata": {},
   "outputs": [
    {
     "data": {
      "text/plain": [
       "82     1\n",
       "134    2\n",
       "114    2\n",
       "42     0\n",
       "109    2\n",
       "57     1\n",
       "1      0\n",
       "70     1\n",
       "25     0\n",
       "84     1\n",
       "66     1\n",
       "133    2\n",
       "102    2\n",
       "107    2\n",
       "26     0\n",
       "23     0\n",
       "123    2\n",
       "130    2\n",
       "21     0\n",
       "12     0\n",
       "71     1\n",
       "128    2\n",
       "48     0\n",
       "72     1\n",
       "88     1\n",
       "148    2\n",
       "74     1\n",
       "96     1\n",
       "63     1\n",
       "132    2\n",
       "Name: Species, dtype: int64"
      ]
     },
     "execution_count": 19,
     "metadata": {},
     "output_type": "execute_result"
    }
   ],
   "source": [
    "y_test"
   ]
  },
  {
   "cell_type": "markdown",
   "id": "85298809",
   "metadata": {},
   "source": [
    "## 13. Perform Feature Scaling(Normalize)"
   ]
  },
  {
   "cell_type": "code",
   "execution_count": 20,
   "id": "b0984dd6",
   "metadata": {},
   "outputs": [],
   "source": [
    "scaler = StandardScaler()\n",
    "X_train = scaler.fit_transform(X_train)\n",
    "X_test = scaler.transform(X_test)"
   ]
  },
  {
   "cell_type": "code",
   "execution_count": 21,
   "id": "bb01075a",
   "metadata": {},
   "outputs": [
    {
     "data": {
      "text/plain": [
       "array([[-0.88140924,  0.72750289, -1.23547394, -1.26527703],\n",
       "       [-0.40389633, -1.69139841,  0.17434798,  0.16834158],\n",
       "       [-0.16513988, -1.03169805, -0.10761641, -0.22264531],\n",
       "       [-0.52327456,  1.38720324, -1.23547394, -1.26527703],\n",
       "       [ 1.38677706,  0.28770265,  0.56909811,  0.29867054],\n",
       "       [-1.00078746,  0.50760277, -1.29186681, -1.26527703],\n",
       "       [-1.00078746,  0.94740301, -1.17908106, -0.74396117],\n",
       "       [ 2.22242464, -0.15209758,  1.35859839,  1.47163122],\n",
       "       [-1.00078746,  0.94740301, -1.34825969, -1.13494806],\n",
       "       [ 0.6705077 ,  0.28770265,  0.90745537,  1.47163122],\n",
       "       [-0.04576165, -0.81179793,  0.79466962,  0.95031536],\n",
       "       [-0.28451811, -1.25159817,  0.1179551 , -0.09231635],\n",
       "       [-0.88140924,  0.94740301, -1.29186681, -1.13494806],\n",
       "       [-0.88140924,  1.60710336, -1.17908106, -1.26527703],\n",
       "       [ 0.78988593, -0.59189782,  0.51270524,  0.42899951],\n",
       "       [ 0.43175125, -0.59189782,  0.62549099,  0.8199864 ],\n",
       "       [ 0.07361657, -0.15209758,  0.28713373,  0.42899951],\n",
       "       [ 1.02864238,  0.50760277,  1.13302688,  1.21097329],\n",
       "       [ 2.22242464,  1.60710336,  1.69695564,  1.34130226],\n",
       "       [-0.52327456,  0.72750289, -1.12268818, -1.26527703],\n",
       "       [ 0.55112948, -1.25159817,  0.73827674,  0.95031536],\n",
       "       [-1.00078746,  0.28770265, -1.40465257, -1.26527703],\n",
       "       [-1.47830037,  0.72750289, -1.29186681, -1.13494806],\n",
       "       [-0.16513988,  2.92650407, -1.23547394, -1.0046191 ],\n",
       "       [-0.76203101,  0.72750289, -1.29186681, -1.26527703],\n",
       "       [ 0.43175125, -0.3719977 ,  0.34352661,  0.16834158],\n",
       "       [ 0.55112948,  0.50760277,  0.56909811,  0.55932847],\n",
       "       [-0.40389633, -1.47149829,  0.00516935, -0.22264531],\n",
       "       [-0.88140924, -1.25159817, -0.38958079, -0.09231635],\n",
       "       [ 0.07361657, -0.15209758,  0.79466962,  0.8199864 ],\n",
       "       [-1.00078746, -2.35109876, -0.10761641, -0.22264531],\n",
       "       [ 0.78988593, -0.15209758,  0.8510625 ,  1.08064433],\n",
       "       [ 0.78988593, -0.15209758,  1.18941976,  1.34130226],\n",
       "       [ 1.26739883,  0.06780254,  0.68188387,  0.42899951],\n",
       "       [-1.47830037,  1.16730313, -1.51743832, -1.26527703],\n",
       "       [ 0.90926416, -0.15209758,  0.39991948,  0.29867054],\n",
       "       [-1.12016569,  0.06780254, -1.23547394, -1.39560599],\n",
       "       [ 1.02864238, -0.15209758,  0.73827674,  0.68965743],\n",
       "       [ 1.02864238, -0.15209758,  0.8510625 ,  1.47163122],\n",
       "       [-0.28451811, -0.3719977 , -0.05122353,  0.16834158],\n",
       "       [ 0.55112948,  0.72750289,  1.076634  ,  1.60196018],\n",
       "       [-0.28451811, -0.81179793,  0.28713373,  0.16834158],\n",
       "       [ 0.31237303, -0.15209758,  0.68188387,  0.8199864 ],\n",
       "       [ 0.55112948, -1.69139841,  0.39991948,  0.16834158],\n",
       "       [-0.04576165, -1.03169805,  0.17434798,  0.03801261],\n",
       "       [-0.16513988, -0.15209758,  0.28713373,  0.03801261],\n",
       "       [ 1.26739883,  0.06780254,  0.96384825,  1.21097329],\n",
       "       [ 1.14802061, -0.59189782,  0.62549099,  0.29867054],\n",
       "       [-0.76203101,  2.26680371, -1.23547394, -1.39560599],\n",
       "       [-0.04576165, -0.81179793,  0.79466962,  0.95031536],\n",
       "       [-1.83643505, -0.15209758, -1.46104544, -1.39560599],\n",
       "       [-1.23954391,  0.72750289, -1.00990243, -1.26527703],\n",
       "       [-0.76203101, -0.81179793,  0.1179551 ,  0.29867054],\n",
       "       [-1.23954391, -0.15209758, -1.29186681, -1.13494806],\n",
       "       [-1.12016569,  0.06780254, -1.23547394, -1.39560599],\n",
       "       [ 2.4611811 ,  1.60710336,  1.52777701,  1.08064433],\n",
       "       [-1.00078746, -1.69139841, -0.22040216, -0.22264531],\n",
       "       [-1.47830037,  0.28770265, -1.29186681, -1.26527703],\n",
       "       [ 0.78988593, -0.15209758,  1.02024113,  0.8199864 ],\n",
       "       [-1.12016569,  0.06780254, -1.23547394, -1.39560599],\n",
       "       [ 0.1929948 , -1.91129852,  0.73827674,  0.42899951],\n",
       "       [-0.40389633, -1.03169805,  0.39991948,  0.03801261],\n",
       "       [-0.04576165,  2.0469036 , -1.40465257, -1.26527703],\n",
       "       [-0.52327456,  1.82700348, -1.34825969, -1.0046191 ],\n",
       "       [ 0.6705077 , -0.81179793,  0.90745537,  0.95031536],\n",
       "       [ 0.1929948 ,  0.72750289,  0.45631236,  0.55932847],\n",
       "       [-0.40389633, -1.25159817,  0.17434798,  0.16834158],\n",
       "       [-0.40389633,  2.48670383, -1.29186681, -1.26527703],\n",
       "       [-1.35892214,  0.28770265, -1.17908106, -1.26527703],\n",
       "       [ 1.26739883,  0.28770265,  1.13302688,  1.47163122],\n",
       "       [ 0.1929948 , -0.3719977 ,  0.45631236,  0.42899951],\n",
       "       [ 0.31237303, -0.15209758,  0.51270524,  0.29867054],\n",
       "       [-1.47830037,  0.06780254, -1.23547394, -1.26527703],\n",
       "       [-0.16513988, -0.59189782,  0.45631236,  0.16834158],\n",
       "       [ 0.1929948 , -0.15209758,  0.62549099,  0.8199864 ],\n",
       "       [-0.04576165, -0.81179793,  0.23074085, -0.22264531],\n",
       "       [-1.23954391,  0.72750289, -1.17908106, -1.26527703],\n",
       "       [ 0.1929948 , -1.91129852,  0.17434798, -0.22264531],\n",
       "       [ 0.6705077 ,  0.06780254,  1.02024113,  0.8199864 ],\n",
       "       [ 1.02864238, -1.25159817,  1.18941976,  0.8199864 ],\n",
       "       [ 0.55112948,  0.50760277,  1.30220551,  1.73228915],\n",
       "       [ 1.14802061,  0.28770265,  1.24581263,  1.47163122],\n",
       "       [-0.16513988,  1.60710336, -1.12268818, -1.13494806],\n",
       "       [-0.88140924,  1.60710336, -1.23547394, -1.13494806],\n",
       "       [ 0.1929948 , -0.81179793,  0.79466962,  0.55932847],\n",
       "       [ 2.22242464, -0.59189782,  1.69695564,  1.08064433],\n",
       "       [-1.71705682, -0.15209758, -1.34825969, -1.26527703],\n",
       "       [ 0.43175125, -1.91129852,  0.45631236,  0.42899951],\n",
       "       [-1.35892214,  0.28770265, -1.34825969, -1.26527703],\n",
       "       [-0.52327456,  0.72750289, -1.23547394, -1.0046191 ],\n",
       "       [ 1.02864238,  0.06780254,  1.076634  ,  1.60196018],\n",
       "       [ 0.6705077 ,  0.28770265,  0.45631236,  0.42899951],\n",
       "       [ 2.10304642, -0.15209758,  1.64056277,  1.21097329],\n",
       "       [-0.40389633,  0.94740301, -1.34825969, -1.26527703],\n",
       "       [ 0.78988593,  0.28770265,  0.79466962,  1.08064433],\n",
       "       [-1.00078746,  1.16730313, -1.29186681, -1.26527703],\n",
       "       [ 1.26739883,  0.06780254,  0.79466962,  1.47163122],\n",
       "       [-0.88140924,  0.94740301, -1.29186681, -1.26527703],\n",
       "       [ 0.90926416, -0.3719977 ,  0.51270524,  0.16834158],\n",
       "       [-0.52327456,  1.82700348, -1.12268818, -1.0046191 ],\n",
       "       [ 0.55112948, -0.3719977 ,  1.076634  ,  0.8199864 ],\n",
       "       [ 1.62553351, -0.15209758,  1.18941976,  0.55932847],\n",
       "       [-1.59767859, -1.69139841, -1.34825969, -1.13494806],\n",
       "       [-1.12016569, -1.25159817,  0.45631236,  0.68965743],\n",
       "       [-0.28451811, -0.59189782,  0.68188387,  1.08064433],\n",
       "       [ 1.62553351,  0.28770265,  1.30220551,  0.8199864 ],\n",
       "       [ 1.02864238,  0.06780254,  0.56909811,  0.42899951],\n",
       "       [-1.23954391,  0.06780254, -1.17908106, -1.26527703],\n",
       "       [ 1.02864238,  0.06780254,  0.39991948,  0.29867054],\n",
       "       [-0.88140924,  1.60710336, -1.00990243, -1.0046191 ],\n",
       "       [-0.76203101,  0.94740301, -1.23547394, -1.26527703],\n",
       "       [-0.40389633, -1.47149829,  0.06156222, -0.09231635],\n",
       "       [-0.16513988, -1.25159817,  0.73827674,  1.08064433],\n",
       "       [-1.00078746,  0.72750289, -1.23547394, -1.26527703],\n",
       "       [ 1.14802061, -0.15209758,  1.02024113,  1.21097329],\n",
       "       [-1.71705682, -0.3719977 , -1.29186681, -1.26527703],\n",
       "       [ 0.31237303, -0.59189782,  0.56909811,  0.03801261],\n",
       "       [ 1.02864238,  0.50760277,  1.13302688,  1.73228915],\n",
       "       [ 2.22242464, -1.03169805,  1.8097414 ,  1.47163122],\n",
       "       [-0.16513988, -0.59189782,  0.23074085,  0.16834158]])"
      ]
     },
     "execution_count": 21,
     "metadata": {},
     "output_type": "execute_result"
    }
   ],
   "source": [
    "X_train"
   ]
  },
  {
   "cell_type": "code",
   "execution_count": 22,
   "id": "4d6384d8",
   "metadata": {},
   "outputs": [
    {
     "data": {
      "text/plain": [
       "array([[-0.04576165, -0.81179793,  0.1179551 ,  0.03801261],\n",
       "       [ 0.31237303, -1.03169805,  1.076634  ,  0.29867054],\n",
       "       [-0.04576165, -0.59189782,  0.79466962,  1.60196018],\n",
       "       [-1.71705682,  0.28770265, -1.34825969, -1.26527703],\n",
       "       [ 1.62553351,  1.16730313,  1.35859839,  1.73228915],\n",
       "       [-1.12016569, -1.47149829, -0.22040216, -0.22264531],\n",
       "       [-1.12016569, -0.15209758, -1.29186681, -1.26527703],\n",
       "       [ 0.07361657,  0.28770265,  0.62549099,  0.8199864 ],\n",
       "       [-1.00078746, -0.15209758, -1.17908106, -1.26527703],\n",
       "       [-0.52327456, -0.15209758,  0.45631236,  0.42899951],\n",
       "       [-0.28451811, -0.15209758,  0.45631236,  0.42899951],\n",
       "       [ 0.55112948, -0.59189782,  0.79466962,  0.42899951],\n",
       "       [ 1.50615529, -0.15209758,  1.24581263,  1.21097329],\n",
       "       [ 1.74491174, -0.3719977 ,  1.47138414,  0.8199864 ],\n",
       "       [-1.00078746,  0.72750289, -1.17908106, -1.0046191 ],\n",
       "       [-0.88140924,  0.50760277, -1.12268818, -0.87429013],\n",
       "       [ 0.55112948, -0.81179793,  0.68188387,  0.8199864 ],\n",
       "       [ 1.86428996, -0.59189782,  1.35859839,  0.95031536],\n",
       "       [-0.88140924,  1.38720324, -1.23547394, -1.0046191 ],\n",
       "       [-1.23954391, -0.15209758, -1.29186681, -1.39560599],\n",
       "       [ 0.31237303, -0.59189782,  0.17434798,  0.16834158],\n",
       "       [ 0.6705077 , -0.59189782,  1.076634  ,  1.21097329],\n",
       "       [-0.64265278,  1.38720324, -1.23547394, -1.26527703],\n",
       "       [ 0.55112948, -1.25159817,  0.68188387,  0.42899951],\n",
       "       [-0.28451811, -0.15209758,  0.23074085,  0.16834158],\n",
       "       [ 0.43175125,  0.72750289,  0.96384825,  1.47163122],\n",
       "       [ 0.6705077 , -0.3719977 ,  0.34352661,  0.16834158],\n",
       "       [-0.16513988, -0.3719977 ,  0.28713373,  0.16834158],\n",
       "       [ 0.31237303, -0.3719977 ,  0.56909811,  0.29867054],\n",
       "       [ 0.6705077 , -0.59189782,  1.076634  ,  1.34130226]])"
      ]
     },
     "execution_count": 22,
     "metadata": {},
     "output_type": "execute_result"
    }
   ],
   "source": [
    "X_test"
   ]
  },
  {
   "cell_type": "markdown",
   "id": "92572bc2",
   "metadata": {},
   "source": [
    "## 14. Fit the K Neighbours Classifier to the training set"
   ]
  },
  {
   "cell_type": "code",
   "execution_count": 23,
   "id": "628a8e10",
   "metadata": {},
   "outputs": [
    {
     "data": {
      "text/html": [
       "<style>#sk-container-id-1 {color: black;}#sk-container-id-1 pre{padding: 0;}#sk-container-id-1 div.sk-toggleable {background-color: white;}#sk-container-id-1 label.sk-toggleable__label {cursor: pointer;display: block;width: 100%;margin-bottom: 0;padding: 0.3em;box-sizing: border-box;text-align: center;}#sk-container-id-1 label.sk-toggleable__label-arrow:before {content: \"▸\";float: left;margin-right: 0.25em;color: #696969;}#sk-container-id-1 label.sk-toggleable__label-arrow:hover:before {color: black;}#sk-container-id-1 div.sk-estimator:hover label.sk-toggleable__label-arrow:before {color: black;}#sk-container-id-1 div.sk-toggleable__content {max-height: 0;max-width: 0;overflow: hidden;text-align: left;background-color: #f0f8ff;}#sk-container-id-1 div.sk-toggleable__content pre {margin: 0.2em;color: black;border-radius: 0.25em;background-color: #f0f8ff;}#sk-container-id-1 input.sk-toggleable__control:checked~div.sk-toggleable__content {max-height: 200px;max-width: 100%;overflow: auto;}#sk-container-id-1 input.sk-toggleable__control:checked~label.sk-toggleable__label-arrow:before {content: \"▾\";}#sk-container-id-1 div.sk-estimator input.sk-toggleable__control:checked~label.sk-toggleable__label {background-color: #d4ebff;}#sk-container-id-1 div.sk-label input.sk-toggleable__control:checked~label.sk-toggleable__label {background-color: #d4ebff;}#sk-container-id-1 input.sk-hidden--visually {border: 0;clip: rect(1px 1px 1px 1px);clip: rect(1px, 1px, 1px, 1px);height: 1px;margin: -1px;overflow: hidden;padding: 0;position: absolute;width: 1px;}#sk-container-id-1 div.sk-estimator {font-family: monospace;background-color: #f0f8ff;border: 1px dotted black;border-radius: 0.25em;box-sizing: border-box;margin-bottom: 0.5em;}#sk-container-id-1 div.sk-estimator:hover {background-color: #d4ebff;}#sk-container-id-1 div.sk-parallel-item::after {content: \"\";width: 100%;border-bottom: 1px solid gray;flex-grow: 1;}#sk-container-id-1 div.sk-label:hover label.sk-toggleable__label {background-color: #d4ebff;}#sk-container-id-1 div.sk-serial::before {content: \"\";position: absolute;border-left: 1px solid gray;box-sizing: border-box;top: 0;bottom: 0;left: 50%;z-index: 0;}#sk-container-id-1 div.sk-serial {display: flex;flex-direction: column;align-items: center;background-color: white;padding-right: 0.2em;padding-left: 0.2em;position: relative;}#sk-container-id-1 div.sk-item {position: relative;z-index: 1;}#sk-container-id-1 div.sk-parallel {display: flex;align-items: stretch;justify-content: center;background-color: white;position: relative;}#sk-container-id-1 div.sk-item::before, #sk-container-id-1 div.sk-parallel-item::before {content: \"\";position: absolute;border-left: 1px solid gray;box-sizing: border-box;top: 0;bottom: 0;left: 50%;z-index: -1;}#sk-container-id-1 div.sk-parallel-item {display: flex;flex-direction: column;z-index: 1;position: relative;background-color: white;}#sk-container-id-1 div.sk-parallel-item:first-child::after {align-self: flex-end;width: 50%;}#sk-container-id-1 div.sk-parallel-item:last-child::after {align-self: flex-start;width: 50%;}#sk-container-id-1 div.sk-parallel-item:only-child::after {width: 0;}#sk-container-id-1 div.sk-dashed-wrapped {border: 1px dashed gray;margin: 0 0.4em 0.5em 0.4em;box-sizing: border-box;padding-bottom: 0.4em;background-color: white;}#sk-container-id-1 div.sk-label label {font-family: monospace;font-weight: bold;display: inline-block;line-height: 1.2em;}#sk-container-id-1 div.sk-label-container {text-align: center;}#sk-container-id-1 div.sk-container {/* jupyter's `normalize.less` sets `[hidden] { display: none; }` but bootstrap.min.css set `[hidden] { display: none !important; }` so we also need the `!important` here to be able to override the default hidden behavior on the sphinx rendered scikit-learn.org. See: https://github.com/scikit-learn/scikit-learn/issues/21755 */display: inline-block !important;position: relative;}#sk-container-id-1 div.sk-text-repr-fallback {display: none;}</style><div id=\"sk-container-id-1\" class=\"sk-top-container\"><div class=\"sk-text-repr-fallback\"><pre>KNeighborsClassifier(n_neighbors=3)</pre><b>In a Jupyter environment, please rerun this cell to show the HTML representation or trust the notebook. <br />On GitHub, the HTML representation is unable to render, please try loading this page with nbviewer.org.</b></div><div class=\"sk-container\" hidden><div class=\"sk-item\"><div class=\"sk-estimator sk-toggleable\"><input class=\"sk-toggleable__control sk-hidden--visually\" id=\"sk-estimator-id-1\" type=\"checkbox\" checked><label for=\"sk-estimator-id-1\" class=\"sk-toggleable__label sk-toggleable__label-arrow\">KNeighborsClassifier</label><div class=\"sk-toggleable__content\"><pre>KNeighborsClassifier(n_neighbors=3)</pre></div></div></div></div></div>"
      ],
      "text/plain": [
       "KNeighborsClassifier(n_neighbors=3)"
      ]
     },
     "execution_count": 23,
     "metadata": {},
     "output_type": "execute_result"
    }
   ],
   "source": [
    "classifier = KNeighborsClassifier(n_neighbors=3)\n",
    "classifier.fit(X_train, y_train)"
   ]
  },
  {
   "cell_type": "markdown",
   "id": "a4adee38",
   "metadata": {},
   "source": [
    "## 15. Predict test-set results "
   ]
  },
  {
   "cell_type": "code",
   "execution_count": 24,
   "id": "03b67526",
   "metadata": {},
   "outputs": [
    {
     "data": {
      "text/plain": [
       "array([1, 1, 2, 0, 2, 1, 0, 2, 0, 1, 1, 1, 2, 2, 0, 0, 2, 2, 0, 0, 1, 2,\n",
       "       0, 1, 1, 2, 1, 1, 1, 2], dtype=int64)"
      ]
     },
     "execution_count": 24,
     "metadata": {},
     "output_type": "execute_result"
    }
   ],
   "source": [
    "y_pred = classifier.predict(X_test)\n",
    "\n",
    "y_pred"
   ]
  },
  {
   "cell_type": "markdown",
   "id": "2758d175",
   "metadata": {},
   "source": [
    "## 16. Check the accuracy score "
   ]
  },
  {
   "cell_type": "code",
   "execution_count": 25,
   "id": "b285b644",
   "metadata": {},
   "outputs": [
    {
     "name": "stdout",
     "output_type": "stream",
     "text": [
      "Accuracy Score: 0.9\n",
      "Precision: 0.9022222222222224\n",
      "Recall: 0.9\n",
      "F1 Score: 0.8997929606625258\n"
     ]
    }
   ],
   "source": [
    "accuracy = accuracy_score(y_test, y_pred)\n",
    "precision = precision_score(y_test, y_pred, average='weighted')\n",
    "recall = recall_score(y_test, y_pred, average='weighted')\n",
    "f1 = f1_score(y_test, y_pred, average='weighted')\n",
    "\n",
    "print(\"Accuracy Score:\", accuracy)\n",
    "print(\"Precision:\", precision)\n",
    "print(\"Recall:\", recall)\n",
    "print(\"F1 Score:\", f1)"
   ]
  },
  {
   "cell_type": "markdown",
   "id": "8b5dad41",
   "metadata": {},
   "source": [
    "## 17. Compare the train-set and test-set accuracy"
   ]
  },
  {
   "cell_type": "code",
   "execution_count": 26,
   "id": "f1a871cd",
   "metadata": {},
   "outputs": [
    {
     "name": "stdout",
     "output_type": "stream",
     "text": [
      "Train set Accuracy: 0.975\n",
      "Test set Accuracy: 0.9\n"
     ]
    }
   ],
   "source": [
    "train_accuracy = classifier.score(X_train, y_train)\n",
    "test_accuracy = classifier.score(X_test, y_test)\n",
    "print(\"Train set Accuracy:\", train_accuracy)\n",
    "print(\"Test set Accuracy:\", test_accuracy)"
   ]
  },
  {
   "cell_type": "markdown",
   "id": "c77e479c",
   "metadata": {},
   "source": [
    "## 18. Rebuild the kNN Classification model using different values of k (3,4,5,6,7,8,9)"
   ]
  },
  {
   "cell_type": "code",
   "execution_count": 27,
   "id": "6d3e49bc",
   "metadata": {},
   "outputs": [
    {
     "name": "stdout",
     "output_type": "stream",
     "text": [
      "+-----+------------+-------------+----------+------------+\n",
      "|   K |   Accuracy |   Precision |   Recall |   F1-score |\n",
      "+=====+============+=============+==========+============+\n",
      "|   3 |   0.9      |    0.902222 | 0.9      |   0.899793 |\n",
      "+-----+------------+-------------+----------+------------+\n",
      "|   4 |   0.9      |    0.902222 | 0.9      |   0.899793 |\n",
      "+-----+------------+-------------+----------+------------+\n",
      "|   5 |   0.933333 |    0.933333 | 0.933333 |   0.933333 |\n",
      "+-----+------------+-------------+----------+------------+\n",
      "|   6 |   0.966667 |    0.969444 | 0.966667 |   0.966598 |\n",
      "+-----+------------+-------------+----------+------------+\n",
      "|   7 |   0.966667 |    0.969444 | 0.966667 |   0.966598 |\n",
      "+-----+------------+-------------+----------+------------+\n",
      "|   8 |   0.966667 |    0.969444 | 0.966667 |   0.966598 |\n",
      "+-----+------------+-------------+----------+------------+\n",
      "|   9 |   0.933333 |    0.933333 | 0.933333 |   0.933333 |\n",
      "+-----+------------+-------------+----------+------------+\n"
     ]
    }
   ],
   "source": [
    "k_values = [3, 4, 5, 6, 7, 8, 9]\n",
    "results = []\n",
    "for k in k_values:\n",
    "    knn = KNeighborsClassifier(n_neighbors=k)\n",
    "    knn.fit(X_train, y_train)\n",
    "    y_pred = knn.predict(X_test)\n",
    "    accuracy = accuracy_score(y_test, y_pred)\n",
    "    precision = precision_score(y_test, y_pred, average='weighted')\n",
    "    recall = recall_score(y_test, y_pred, average='weighted')\n",
    "    f1 = f1_score(y_test, y_pred, average='weighted')\n",
    "    results.append([k, accuracy, precision, recall, f1])\n",
    "\n",
    "print(tabulate(results, headers=['K', 'Accuracy', 'Precision', 'Recall', 'F1-score'], tablefmt='grid'))"
   ]
  },
  {
   "cell_type": "markdown",
   "id": "d6680df0",
   "metadata": {},
   "source": [
    "## 19. Tabulate the results using the Tabulate package"
   ]
  },
  {
   "cell_type": "code",
   "execution_count": 28,
   "id": "a8149921",
   "metadata": {
    "scrolled": true
   },
   "outputs": [
    {
     "name": "stdout",
     "output_type": "stream",
     "text": [
      "  K    Train Accuracy    Test Accuracy\n",
      "---  ----------------  ---------------\n",
      "  3          0.9              0.902222\n",
      "  4          0.9              0.902222\n",
      "  5          0.933333         0.933333\n",
      "  6          0.966667         0.969444\n",
      "  7          0.966667         0.969444\n",
      "  8          0.966667         0.969444\n",
      "  9          0.933333         0.933333\n"
     ]
    }
   ],
   "source": [
    "selected_columns = [[row[0], row[1], row[2]] for row in results]\n",
    "\n",
    "print(tabulate(selected_columns, headers=['K', 'Train Accuracy', 'Test Accuracy']))"
   ]
  },
  {
   "cell_type": "markdown",
   "id": "ac9554e9",
   "metadata": {},
   "source": [
    "## 20. Display confusion matrix"
   ]
  },
  {
   "cell_type": "code",
   "execution_count": 29,
   "id": "a79a655a",
   "metadata": {},
   "outputs": [
    {
     "data": {
      "text/plain": [
       "<Axes: >"
      ]
     },
     "execution_count": 29,
     "metadata": {},
     "output_type": "execute_result"
    },
    {
     "data": {
      "image/png": "[encoded data removed]",
      "text/plain": [
       "<Figure size 640x480 with 2 Axes>"
      ]
     },
     "metadata": {},
     "output_type": "display_data"
    }
   ],
   "source": [
    "cm=confusion_matrix(y_test,y_pred)\n",
    "sns.heatmap(cm,annot=True)"
   ]
  },
  {
   "cell_type": "markdown",
   "id": "76de4539",
   "metadata": {},
   "source": [
    "## 21. Generate classification report"
   ]
  },
  {
   "cell_type": "code",
   "execution_count": 30,
   "id": "204d1107",
   "metadata": {},
   "outputs": [
    {
     "name": "stdout",
     "output_type": "stream",
     "text": [
      "Classification Report:\n",
      "              precision    recall  f1-score   support\n",
      "\n",
      "           0       1.00      1.00      1.00         8\n",
      "           1       0.91      0.91      0.91        11\n",
      "           2       0.91      0.91      0.91        11\n",
      "\n",
      "    accuracy                           0.93        30\n",
      "   macro avg       0.94      0.94      0.94        30\n",
      "weighted avg       0.93      0.93      0.93        30\n",
      "\n"
     ]
    }
   ],
   "source": [
    "class_report = classification_report(y_test, y_pred)\n",
    "print(\"Classification Report:\")\n",
    "print(class_report)"
   ]
  },
  {
   "cell_type": "markdown",
   "id": "55963680",
   "metadata": {},
   "source": [
    "## 22. Evaluate classification error"
   ]
  },
  {
   "cell_type": "code",
   "execution_count": 31,
   "id": "80ae7b49",
   "metadata": {},
   "outputs": [
    {
     "name": "stdout",
     "output_type": "stream",
     "text": [
      "Classification Error: 0.06666666666666667\n"
     ]
    }
   ],
   "source": [
    "error = np.mean(y_pred != y_test)\n",
    "print(\"Classification Error:\", error)"
   ]
  },
  {
   "cell_type": "markdown",
   "id": "86e8df7f",
   "metadata": {},
   "source": [
    "## 23. Generate ROC curve and ROC AUC score."
   ]
  },
  {
   "cell_type": "code",
   "execution_count": 32,
   "id": "34cea911",
   "metadata": {},
   "outputs": [
    {
     "data": {
      "image/png": "[encoded data removed]",
      "text/plain": [
       "<Figure size 1000x800 with 1 Axes>"
      ]
     },
     "metadata": {},
     "output_type": "display_data"
    }
   ],
   "source": [
    "from sklearn.metrics import roc_curve, auc\n",
    "from sklearn.preprocessing import label_binarize\n",
    "from sklearn.dummy import DummyClassifier\n",
    "import matplotlib.pyplot as plt\n",
    "\n",
    "# Assuming y_test is the true class labels and y_scores is the predicted scores\n",
    "y_test_bin = label_binarize(y_test, classes=range(3))\n",
    "\n",
    "# KNN model predictions\n",
    "# Make sure your KNN model has predict_proba method for probability estimates\n",
    "y_scores = classifier.predict_proba(X_test)\n",
    "\n",
    "# One-vs-Rest ROC curve and ROC-AUC calculation for KNN\n",
    "fpr_knn = dict()\n",
    "tpr_knn = dict()\n",
    "roc_auc_knn = dict()\n",
    "\n",
    "for i in range(3):\n",
    "    fpr_knn[i], tpr_knn[i], _ = roc_curve(y_test_bin[:, i], y_scores[:, i])\n",
    "    roc_auc_knn[i] = auc(fpr_knn[i], tpr_knn[i])\n",
    "\n",
    "# Dummy Classifier (most frequent class) for comparison\n",
    "clf = DummyClassifier(strategy='most_frequent', random_state=0)\n",
    "clf.fit(X_train, y_train)\n",
    "y_scores_dummy = clf.predict_proba(X_test)\n",
    "\n",
    "fpr_dummy = dict()\n",
    "tpr_dummy = dict()\n",
    "roc_auc_dummy = dict()\n",
    "\n",
    "for i in range(3):\n",
    "    fpr_dummy[i], tpr_dummy[i], _ = roc_curve(y_test_bin[:, i], y_scores_dummy[:, i])\n",
    "    roc_auc_dummy[i] = auc(fpr_dummy[i], tpr_dummy[i])\n",
    "\n",
    "# Plot the One-vs-Rest ROC curve for KNN and Dummy Classifier\n",
    "plt.figure(figsize=(10, 8))\n",
    "for i in range(3):\n",
    "    plt.plot(fpr_knn[i], tpr_knn[i], label=f'Class {i} (AUC = {roc_auc_knn[i]:.2f}) - KNN')\n",
    "\n",
    "for i in range(3):\n",
    "    plt.plot(fpr_dummy[i], tpr_dummy[i], linestyle='--', label=f'Class {i} (AUC = {roc_auc_dummy[i]:.2f}) - Dummy')\n",
    "\n",
    "plt.plot([0, 1], [0, 1], linestyle='--', color='gray', label='Random')\n",
    "plt.xlabel('False Positive Rate')\n",
    "plt.ylabel('True Positive Rate')\n",
    "plt.title('One-vs-Rest ROC Curve for Multiclass Classification')\n",
    "plt.legend(loc='lower right')\n",
    "plt.show()"
   ]
  },
  {
   "cell_type": "markdown",
   "id": "879b541d",
   "metadata": {},
   "source": [
    "## 24. Perform k-fold validation"
   ]
  },
  {
   "cell_type": "code",
   "execution_count": 33,
   "id": "068b473f",
   "metadata": {},
   "outputs": [
    {
     "name": "stdout",
     "output_type": "stream",
     "text": [
      "+--------------------+------------+-------------+-----------+------------+\n",
      "| Fold               |   Accuracy |   Precision |    Recall |   F1-score |\n",
      "+====================+============+=============+===========+============+\n",
      "| 1                  |  1         |   1         | 1         |  1         |\n",
      "+--------------------+------------+-------------+-----------+------------+\n",
      "| 2                  |  0.966667  |   0.969697  | 0.966667  |  0.966178  |\n",
      "+--------------------+------------+-------------+-----------+------------+\n",
      "| 3                  |  0.966667  |   0.97037   | 0.966667  |  0.96677   |\n",
      "+--------------------+------------+-------------+-----------+------------+\n",
      "| 4                  |  0.933333  |   0.942857  | 0.933333  |  0.932194  |\n",
      "+--------------------+------------+-------------+-----------+------------+\n",
      "| 5                  |  0.966667  |   0.969444  | 0.966667  |  0.966667  |\n",
      "+--------------------+------------+-------------+-----------+------------+\n",
      "| Mean               |  0.966667  |   0.970474  | 0.966667  |  0.966362  |\n",
      "+--------------------+------------+-------------+-----------+------------+\n",
      "| Standard Deviation |  0.0210819 |   0.0180895 | 0.0210819 |  0.0214442 |\n",
      "+--------------------+------------+-------------+-----------+------------+\n"
     ]
    }
   ],
   "source": [
    "from sklearn.metrics import precision_score, recall_score, f1_score\n",
    "from sklearn.model_selection import cross_val_predict\n",
    "from tabulate import tabulate\n",
    "\n",
    "# Step 24: Perform k-fold validation with metrics\n",
    "kf = KFold(n_splits=5, shuffle=True, random_state=42)\n",
    "\n",
    "accuracy_scores = []\n",
    "precision_scores = []\n",
    "recall_scores = []\n",
    "f1_scores = []\n",
    "\n",
    "for train_index, test_index in kf.split(X):\n",
    "    X_train_fold, X_test_fold = X.iloc[train_index], X.iloc[test_index]\n",
    "    y_train_fold, y_test_fold = y.iloc[train_index], y.iloc[test_index]\n",
    "    \n",
    "    classifier.fit(X_train_fold, y_train_fold)\n",
    "    y_pred_fold = classifier.predict(X_test_fold)\n",
    "    \n",
    "    accuracy = accuracy_score(y_test_fold, y_pred_fold)\n",
    "    precision = precision_score(y_test_fold, y_pred_fold, average='weighted')\n",
    "    recall = recall_score(y_test_fold, y_pred_fold, average='weighted')\n",
    "    f1 = f1_score(y_test_fold, y_pred_fold, average='weighted')\n",
    "    \n",
    "    accuracy_scores.append(accuracy)\n",
    "    precision_scores.append(precision)\n",
    "    recall_scores.append(recall)\n",
    "    f1_scores.append(f1)\n",
    "\n",
    "# Tabulate the fold_results\n",
    "fold_results = []\n",
    "for i in range(5):\n",
    "    fold_results.append([i+1, accuracy_scores[i], precision_scores[i], recall_scores[i], f1_scores[i]])\n",
    "\n",
    "# Calculate mean and standard deviation\n",
    "mean_accuracy = np.mean(accuracy_scores)\n",
    "mean_precision = np.mean(precision_scores)\n",
    "mean_recall = np.mean(recall_scores)\n",
    "mean_f1 = np.mean(f1_scores)\n",
    "std_accuracy = np.std(accuracy_scores)\n",
    "std_precision = np.std(precision_scores)\n",
    "std_recall = np.std(recall_scores)\n",
    "std_f1 = np.std(f1_scores)\n",
    "\n",
    "fold_results.append([\"Mean\", mean_accuracy, mean_precision, mean_recall, mean_f1])\n",
    "fold_results.append([\"Standard Deviation\", std_accuracy, std_precision, std_recall, std_f1])\n",
    "\n",
    "print(tabulate(fold_results, headers=['Fold', 'Accuracy', 'Precision', 'Recall', 'F1-score'], tablefmt='grid'))\n"
   ]
  },
  {
   "cell_type": "code",
   "execution_count": 34,
   "id": "cb753eff",
   "metadata": {},
   "outputs": [
    {
     "name": "stdout",
     "output_type": "stream",
     "text": [
      "Cross-validated Accuracy: 0.9666666666666668\n"
     ]
    }
   ],
   "source": [
    "kf = KFold(n_splits=5, shuffle=True, random_state=42)\n",
    "scores = cross_val_score(classifier, X, y, cv=kf)\n",
    "print(\"Cross-validated Accuracy:\", scores.mean())"
   ]
  },
  {
   "cell_type": "markdown",
   "id": "668e8da3",
   "metadata": {},
   "source": [
    "# Manual Implementation of KNN-Iris Dataset"
   ]
  },
  {
   "cell_type": "code",
   "execution_count": 35,
   "id": "222db366",
   "metadata": {},
   "outputs": [
    {
     "data": {
      "text/plain": [
       "SepalLengthCm    5.1\n",
       "SepalWidthCm     3.5\n",
       "PetalLengthCm    1.4\n",
       "PetalWidthCm     0.2\n",
       "Species          0.0\n",
       "Name: 0, dtype: float64"
      ]
     },
     "execution_count": 35,
     "metadata": {},
     "output_type": "execute_result"
    }
   ],
   "source": [
    "df.iloc[0]#gives 0th row"
   ]
  },
  {
   "cell_type": "code",
   "execution_count": 36,
   "id": "2d8fdabf",
   "metadata": {},
   "outputs": [],
   "source": [
    "#euclidean distance\n",
    "def euclidist(x1,x2):\n",
    "    return np.sqrt(np.sum((x1-x2)**2))"
   ]
  },
  {
   "cell_type": "code",
   "execution_count": 37,
   "id": "02049b30",
   "metadata": {},
   "outputs": [
    {
     "data": {
      "text/plain": [
       "(150, 5)"
      ]
     },
     "execution_count": 37,
     "metadata": {},
     "output_type": "execute_result"
    }
   ],
   "source": [
    "df.shape"
   ]
  },
  {
   "cell_type": "markdown",
   "id": "aa925026",
   "metadata": {},
   "source": [
    "## Considering K=3 & Split as (0.8,0.2)"
   ]
  },
  {
   "cell_type": "code",
   "execution_count": 38,
   "id": "ffa76afe",
   "metadata": {},
   "outputs": [
    {
     "data": {
      "text/html": [
       "<div>\n",
       "<style scoped>\n",
       "    .dataframe tbody tr th:only-of-type {\n",
       "        vertical-align: middle;\n",
       "    }\n",
       "\n",
       "    .dataframe tbody tr th {\n",
       "        vertical-align: top;\n",
       "    }\n",
       "\n",
       "    .dataframe thead th {\n",
       "        text-align: right;\n",
       "    }\n",
       "</style>\n",
       "<table border=\"1\" class=\"dataframe\">\n",
       "  <thead>\n",
       "    <tr style=\"text-align: right;\">\n",
       "      <th></th>\n",
       "      <th>SepalLengthCm</th>\n",
       "      <th>SepalWidthCm</th>\n",
       "      <th>PetalLengthCm</th>\n",
       "      <th>PetalWidthCm</th>\n",
       "    </tr>\n",
       "  </thead>\n",
       "  <tbody>\n",
       "    <tr>\n",
       "      <th>0</th>\n",
       "      <td>5.1</td>\n",
       "      <td>3.5</td>\n",
       "      <td>1.4</td>\n",
       "      <td>0.2</td>\n",
       "    </tr>\n",
       "    <tr>\n",
       "      <th>1</th>\n",
       "      <td>4.9</td>\n",
       "      <td>3.0</td>\n",
       "      <td>1.4</td>\n",
       "      <td>0.2</td>\n",
       "    </tr>\n",
       "    <tr>\n",
       "      <th>2</th>\n",
       "      <td>4.7</td>\n",
       "      <td>3.2</td>\n",
       "      <td>1.3</td>\n",
       "      <td>0.2</td>\n",
       "    </tr>\n",
       "    <tr>\n",
       "      <th>3</th>\n",
       "      <td>4.6</td>\n",
       "      <td>3.1</td>\n",
       "      <td>1.5</td>\n",
       "      <td>0.2</td>\n",
       "    </tr>\n",
       "    <tr>\n",
       "      <th>4</th>\n",
       "      <td>5.0</td>\n",
       "      <td>3.6</td>\n",
       "      <td>1.4</td>\n",
       "      <td>0.2</td>\n",
       "    </tr>\n",
       "    <tr>\n",
       "      <th>...</th>\n",
       "      <td>...</td>\n",
       "      <td>...</td>\n",
       "      <td>...</td>\n",
       "      <td>...</td>\n",
       "    </tr>\n",
       "    <tr>\n",
       "      <th>145</th>\n",
       "      <td>6.7</td>\n",
       "      <td>3.0</td>\n",
       "      <td>5.2</td>\n",
       "      <td>2.3</td>\n",
       "    </tr>\n",
       "    <tr>\n",
       "      <th>146</th>\n",
       "      <td>6.3</td>\n",
       "      <td>2.5</td>\n",
       "      <td>5.0</td>\n",
       "      <td>1.9</td>\n",
       "    </tr>\n",
       "    <tr>\n",
       "      <th>147</th>\n",
       "      <td>6.5</td>\n",
       "      <td>3.0</td>\n",
       "      <td>5.2</td>\n",
       "      <td>2.0</td>\n",
       "    </tr>\n",
       "    <tr>\n",
       "      <th>148</th>\n",
       "      <td>6.2</td>\n",
       "      <td>3.4</td>\n",
       "      <td>5.4</td>\n",
       "      <td>2.3</td>\n",
       "    </tr>\n",
       "    <tr>\n",
       "      <th>149</th>\n",
       "      <td>5.9</td>\n",
       "      <td>3.0</td>\n",
       "      <td>5.1</td>\n",
       "      <td>1.8</td>\n",
       "    </tr>\n",
       "  </tbody>\n",
       "</table>\n",
       "<p>150 rows × 4 columns</p>\n",
       "</div>"
      ],
      "text/plain": [
       "     SepalLengthCm  SepalWidthCm  PetalLengthCm  PetalWidthCm\n",
       "0              5.1           3.5            1.4           0.2\n",
       "1              4.9           3.0            1.4           0.2\n",
       "2              4.7           3.2            1.3           0.2\n",
       "3              4.6           3.1            1.5           0.2\n",
       "4              5.0           3.6            1.4           0.2\n",
       "..             ...           ...            ...           ...\n",
       "145            6.7           3.0            5.2           2.3\n",
       "146            6.3           2.5            5.0           1.9\n",
       "147            6.5           3.0            5.2           2.0\n",
       "148            6.2           3.4            5.4           2.3\n",
       "149            5.9           3.0            5.1           1.8\n",
       "\n",
       "[150 rows x 4 columns]"
      ]
     },
     "execution_count": 38,
     "metadata": {},
     "output_type": "execute_result"
    }
   ],
   "source": [
    "X=df.iloc[:,:-1]\n",
    "X"
   ]
  },
  {
   "cell_type": "code",
   "execution_count": 39,
   "id": "f1b44384",
   "metadata": {},
   "outputs": [
    {
     "data": {
      "text/plain": [
       "0      0\n",
       "1      0\n",
       "2      0\n",
       "3      0\n",
       "4      0\n",
       "      ..\n",
       "145    2\n",
       "146    2\n",
       "147    2\n",
       "148    2\n",
       "149    2\n",
       "Name: Species, Length: 150, dtype: int64"
      ]
     },
     "execution_count": 39,
     "metadata": {},
     "output_type": "execute_result"
    }
   ],
   "source": [
    "y=df.iloc[:,-1]\n",
    "y"
   ]
  },
  {
   "cell_type": "code",
   "execution_count": 40,
   "id": "f3f99098",
   "metadata": {},
   "outputs": [],
   "source": [
    "def KnearestNeighbour(x_train,y_train,x_test,k):\n",
    "    y_pred=[]\n",
    "    for i in range(x_test.shape[0]):\n",
    "        class_0=0\n",
    "        class_1=0\n",
    "        class_2=0\n",
    "        dist=[]\n",
    "        for j in range(x_train.shape[0]):\n",
    "            d=euclidist(x_test.iloc[i],x_train.iloc[j])\n",
    "            dist.append([d,y_train.iloc[j]])#for each distance and label(class of it)\n",
    "        dist=sorted(dist)\n",
    "        dist=dist[:k]#getting only k nearest neighbours\n",
    "        for i in range(len(dist)):\n",
    "            if(dist[i][1]==0):\n",
    "                class_0+=1\n",
    "            elif(dist[i][1]==1):\n",
    "                class_1+=1\n",
    "            else:\n",
    "                class_2+=1\n",
    "        if(class_0>class_1 and class_0>class_2):\n",
    "            y_pred.append(0)\n",
    "        elif(class_1>class_0 and class_1>class_2):\n",
    "            y_pred.append(1)\n",
    "        else:\n",
    "            y_pred.append(2)\n",
    "    return y_pred"
   ]
  },
  {
   "cell_type": "code",
   "execution_count": 41,
   "id": "5886aa75",
   "metadata": {},
   "outputs": [],
   "source": [
    "indices = np.random.permutation(X.shape[0])\n",
    "\n",
    "# Calculate the split index based on the desired ratio (80-20)\n",
    "split_index = int(0.8 * X.shape[0])\n",
    "x_train, x_test = X.iloc[indices[:split_index]], X.iloc[indices[split_index:]]\n",
    "y_train, y_test = y.iloc[indices[:split_index]], y.iloc[indices[split_index:]]"
   ]
  },
  {
   "cell_type": "code",
   "execution_count": 42,
   "id": "ec457324",
   "metadata": {},
   "outputs": [
    {
     "data": {
      "text/html": [
       "<div>\n",
       "<style scoped>\n",
       "    .dataframe tbody tr th:only-of-type {\n",
       "        vertical-align: middle;\n",
       "    }\n",
       "\n",
       "    .dataframe tbody tr th {\n",
       "        vertical-align: top;\n",
       "    }\n",
       "\n",
       "    .dataframe thead th {\n",
       "        text-align: right;\n",
       "    }\n",
       "</style>\n",
       "<table border=\"1\" class=\"dataframe\">\n",
       "  <thead>\n",
       "    <tr style=\"text-align: right;\">\n",
       "      <th></th>\n",
       "      <th>SepalLengthCm</th>\n",
       "      <th>SepalWidthCm</th>\n",
       "      <th>PetalLengthCm</th>\n",
       "      <th>PetalWidthCm</th>\n",
       "    </tr>\n",
       "  </thead>\n",
       "  <tbody>\n",
       "    <tr>\n",
       "      <th>91</th>\n",
       "      <td>6.1</td>\n",
       "      <td>3.0</td>\n",
       "      <td>4.6</td>\n",
       "      <td>1.4</td>\n",
       "    </tr>\n",
       "    <tr>\n",
       "      <th>109</th>\n",
       "      <td>7.2</td>\n",
       "      <td>3.6</td>\n",
       "      <td>6.1</td>\n",
       "      <td>2.5</td>\n",
       "    </tr>\n",
       "    <tr>\n",
       "      <th>74</th>\n",
       "      <td>6.4</td>\n",
       "      <td>2.9</td>\n",
       "      <td>4.3</td>\n",
       "      <td>1.3</td>\n",
       "    </tr>\n",
       "    <tr>\n",
       "      <th>38</th>\n",
       "      <td>4.4</td>\n",
       "      <td>3.0</td>\n",
       "      <td>1.3</td>\n",
       "      <td>0.2</td>\n",
       "    </tr>\n",
       "    <tr>\n",
       "      <th>99</th>\n",
       "      <td>5.7</td>\n",
       "      <td>2.8</td>\n",
       "      <td>4.1</td>\n",
       "      <td>1.3</td>\n",
       "    </tr>\n",
       "    <tr>\n",
       "      <th>...</th>\n",
       "      <td>...</td>\n",
       "      <td>...</td>\n",
       "      <td>...</td>\n",
       "      <td>...</td>\n",
       "    </tr>\n",
       "    <tr>\n",
       "      <th>117</th>\n",
       "      <td>7.7</td>\n",
       "      <td>3.8</td>\n",
       "      <td>6.7</td>\n",
       "      <td>2.2</td>\n",
       "    </tr>\n",
       "    <tr>\n",
       "      <th>105</th>\n",
       "      <td>7.6</td>\n",
       "      <td>3.0</td>\n",
       "      <td>6.6</td>\n",
       "      <td>2.1</td>\n",
       "    </tr>\n",
       "    <tr>\n",
       "      <th>102</th>\n",
       "      <td>7.1</td>\n",
       "      <td>3.0</td>\n",
       "      <td>5.9</td>\n",
       "      <td>2.1</td>\n",
       "    </tr>\n",
       "    <tr>\n",
       "      <th>78</th>\n",
       "      <td>6.0</td>\n",
       "      <td>2.9</td>\n",
       "      <td>4.5</td>\n",
       "      <td>1.5</td>\n",
       "    </tr>\n",
       "    <tr>\n",
       "      <th>98</th>\n",
       "      <td>5.1</td>\n",
       "      <td>2.5</td>\n",
       "      <td>3.0</td>\n",
       "      <td>1.1</td>\n",
       "    </tr>\n",
       "  </tbody>\n",
       "</table>\n",
       "<p>120 rows × 4 columns</p>\n",
       "</div>"
      ],
      "text/plain": [
       "     SepalLengthCm  SepalWidthCm  PetalLengthCm  PetalWidthCm\n",
       "91             6.1           3.0            4.6           1.4\n",
       "109            7.2           3.6            6.1           2.5\n",
       "74             6.4           2.9            4.3           1.3\n",
       "38             4.4           3.0            1.3           0.2\n",
       "99             5.7           2.8            4.1           1.3\n",
       "..             ...           ...            ...           ...\n",
       "117            7.7           3.8            6.7           2.2\n",
       "105            7.6           3.0            6.6           2.1\n",
       "102            7.1           3.0            5.9           2.1\n",
       "78             6.0           2.9            4.5           1.5\n",
       "98             5.1           2.5            3.0           1.1\n",
       "\n",
       "[120 rows x 4 columns]"
      ]
     },
     "execution_count": 42,
     "metadata": {},
     "output_type": "execute_result"
    }
   ],
   "source": [
    "x_train"
   ]
  },
  {
   "cell_type": "code",
   "execution_count": 43,
   "id": "5cd04ed5",
   "metadata": {},
   "outputs": [
    {
     "data": {
      "text/html": [
       "<div>\n",
       "<style scoped>\n",
       "    .dataframe tbody tr th:only-of-type {\n",
       "        vertical-align: middle;\n",
       "    }\n",
       "\n",
       "    .dataframe tbody tr th {\n",
       "        vertical-align: top;\n",
       "    }\n",
       "\n",
       "    .dataframe thead th {\n",
       "        text-align: right;\n",
       "    }\n",
       "</style>\n",
       "<table border=\"1\" class=\"dataframe\">\n",
       "  <thead>\n",
       "    <tr style=\"text-align: right;\">\n",
       "      <th></th>\n",
       "      <th>SepalLengthCm</th>\n",
       "      <th>SepalWidthCm</th>\n",
       "      <th>PetalLengthCm</th>\n",
       "      <th>PetalWidthCm</th>\n",
       "    </tr>\n",
       "  </thead>\n",
       "  <tbody>\n",
       "    <tr>\n",
       "      <th>0</th>\n",
       "      <td>5.1</td>\n",
       "      <td>3.5</td>\n",
       "      <td>1.4</td>\n",
       "      <td>0.2</td>\n",
       "    </tr>\n",
       "    <tr>\n",
       "      <th>75</th>\n",
       "      <td>6.6</td>\n",
       "      <td>3.0</td>\n",
       "      <td>4.4</td>\n",
       "      <td>1.4</td>\n",
       "    </tr>\n",
       "    <tr>\n",
       "      <th>125</th>\n",
       "      <td>7.2</td>\n",
       "      <td>3.2</td>\n",
       "      <td>6.0</td>\n",
       "      <td>1.8</td>\n",
       "    </tr>\n",
       "    <tr>\n",
       "      <th>12</th>\n",
       "      <td>4.8</td>\n",
       "      <td>3.0</td>\n",
       "      <td>1.4</td>\n",
       "      <td>0.1</td>\n",
       "    </tr>\n",
       "    <tr>\n",
       "      <th>106</th>\n",
       "      <td>4.9</td>\n",
       "      <td>2.5</td>\n",
       "      <td>4.5</td>\n",
       "      <td>1.7</td>\n",
       "    </tr>\n",
       "    <tr>\n",
       "      <th>138</th>\n",
       "      <td>6.0</td>\n",
       "      <td>3.0</td>\n",
       "      <td>4.8</td>\n",
       "      <td>1.8</td>\n",
       "    </tr>\n",
       "    <tr>\n",
       "      <th>19</th>\n",
       "      <td>5.1</td>\n",
       "      <td>3.8</td>\n",
       "      <td>1.5</td>\n",
       "      <td>0.3</td>\n",
       "    </tr>\n",
       "    <tr>\n",
       "      <th>30</th>\n",
       "      <td>4.8</td>\n",
       "      <td>3.1</td>\n",
       "      <td>1.6</td>\n",
       "      <td>0.2</td>\n",
       "    </tr>\n",
       "    <tr>\n",
       "      <th>149</th>\n",
       "      <td>5.9</td>\n",
       "      <td>3.0</td>\n",
       "      <td>5.1</td>\n",
       "      <td>1.8</td>\n",
       "    </tr>\n",
       "    <tr>\n",
       "      <th>29</th>\n",
       "      <td>4.7</td>\n",
       "      <td>3.2</td>\n",
       "      <td>1.6</td>\n",
       "      <td>0.2</td>\n",
       "    </tr>\n",
       "    <tr>\n",
       "      <th>84</th>\n",
       "      <td>5.4</td>\n",
       "      <td>3.0</td>\n",
       "      <td>4.5</td>\n",
       "      <td>1.5</td>\n",
       "    </tr>\n",
       "    <tr>\n",
       "      <th>20</th>\n",
       "      <td>5.4</td>\n",
       "      <td>3.4</td>\n",
       "      <td>1.7</td>\n",
       "      <td>0.2</td>\n",
       "    </tr>\n",
       "    <tr>\n",
       "      <th>1</th>\n",
       "      <td>4.9</td>\n",
       "      <td>3.0</td>\n",
       "      <td>1.4</td>\n",
       "      <td>0.2</td>\n",
       "    </tr>\n",
       "    <tr>\n",
       "      <th>144</th>\n",
       "      <td>6.7</td>\n",
       "      <td>3.3</td>\n",
       "      <td>5.7</td>\n",
       "      <td>2.5</td>\n",
       "    </tr>\n",
       "    <tr>\n",
       "      <th>45</th>\n",
       "      <td>4.8</td>\n",
       "      <td>3.0</td>\n",
       "      <td>1.4</td>\n",
       "      <td>0.3</td>\n",
       "    </tr>\n",
       "    <tr>\n",
       "      <th>139</th>\n",
       "      <td>6.9</td>\n",
       "      <td>3.1</td>\n",
       "      <td>5.4</td>\n",
       "      <td>2.1</td>\n",
       "    </tr>\n",
       "    <tr>\n",
       "      <th>58</th>\n",
       "      <td>6.6</td>\n",
       "      <td>2.9</td>\n",
       "      <td>4.6</td>\n",
       "      <td>1.3</td>\n",
       "    </tr>\n",
       "    <tr>\n",
       "      <th>133</th>\n",
       "      <td>6.3</td>\n",
       "      <td>2.8</td>\n",
       "      <td>5.1</td>\n",
       "      <td>1.5</td>\n",
       "    </tr>\n",
       "    <tr>\n",
       "      <th>42</th>\n",
       "      <td>4.4</td>\n",
       "      <td>3.2</td>\n",
       "      <td>1.3</td>\n",
       "      <td>0.2</td>\n",
       "    </tr>\n",
       "    <tr>\n",
       "      <th>57</th>\n",
       "      <td>4.9</td>\n",
       "      <td>2.4</td>\n",
       "      <td>3.3</td>\n",
       "      <td>1.0</td>\n",
       "    </tr>\n",
       "    <tr>\n",
       "      <th>124</th>\n",
       "      <td>6.7</td>\n",
       "      <td>3.3</td>\n",
       "      <td>5.7</td>\n",
       "      <td>2.1</td>\n",
       "    </tr>\n",
       "    <tr>\n",
       "      <th>143</th>\n",
       "      <td>6.8</td>\n",
       "      <td>3.2</td>\n",
       "      <td>5.9</td>\n",
       "      <td>2.3</td>\n",
       "    </tr>\n",
       "    <tr>\n",
       "      <th>69</th>\n",
       "      <td>5.6</td>\n",
       "      <td>2.5</td>\n",
       "      <td>3.9</td>\n",
       "      <td>1.1</td>\n",
       "    </tr>\n",
       "    <tr>\n",
       "      <th>40</th>\n",
       "      <td>5.0</td>\n",
       "      <td>3.5</td>\n",
       "      <td>1.3</td>\n",
       "      <td>0.3</td>\n",
       "    </tr>\n",
       "    <tr>\n",
       "      <th>82</th>\n",
       "      <td>5.8</td>\n",
       "      <td>2.7</td>\n",
       "      <td>3.9</td>\n",
       "      <td>1.2</td>\n",
       "    </tr>\n",
       "    <tr>\n",
       "      <th>76</th>\n",
       "      <td>6.8</td>\n",
       "      <td>2.8</td>\n",
       "      <td>4.8</td>\n",
       "      <td>1.4</td>\n",
       "    </tr>\n",
       "    <tr>\n",
       "      <th>51</th>\n",
       "      <td>6.4</td>\n",
       "      <td>3.2</td>\n",
       "      <td>4.5</td>\n",
       "      <td>1.5</td>\n",
       "    </tr>\n",
       "    <tr>\n",
       "      <th>141</th>\n",
       "      <td>6.9</td>\n",
       "      <td>3.1</td>\n",
       "      <td>5.1</td>\n",
       "      <td>2.3</td>\n",
       "    </tr>\n",
       "    <tr>\n",
       "      <th>7</th>\n",
       "      <td>5.0</td>\n",
       "      <td>3.4</td>\n",
       "      <td>1.5</td>\n",
       "      <td>0.2</td>\n",
       "    </tr>\n",
       "    <tr>\n",
       "      <th>13</th>\n",
       "      <td>4.3</td>\n",
       "      <td>3.0</td>\n",
       "      <td>1.1</td>\n",
       "      <td>0.1</td>\n",
       "    </tr>\n",
       "  </tbody>\n",
       "</table>\n",
       "</div>"
      ],
      "text/plain": [
       "     SepalLengthCm  SepalWidthCm  PetalLengthCm  PetalWidthCm\n",
       "0              5.1           3.5            1.4           0.2\n",
       "75             6.6           3.0            4.4           1.4\n",
       "125            7.2           3.2            6.0           1.8\n",
       "12             4.8           3.0            1.4           0.1\n",
       "106            4.9           2.5            4.5           1.7\n",
       "138            6.0           3.0            4.8           1.8\n",
       "19             5.1           3.8            1.5           0.3\n",
       "30             4.8           3.1            1.6           0.2\n",
       "149            5.9           3.0            5.1           1.8\n",
       "29             4.7           3.2            1.6           0.2\n",
       "84             5.4           3.0            4.5           1.5\n",
       "20             5.4           3.4            1.7           0.2\n",
       "1              4.9           3.0            1.4           0.2\n",
       "144            6.7           3.3            5.7           2.5\n",
       "45             4.8           3.0            1.4           0.3\n",
       "139            6.9           3.1            5.4           2.1\n",
       "58             6.6           2.9            4.6           1.3\n",
       "133            6.3           2.8            5.1           1.5\n",
       "42             4.4           3.2            1.3           0.2\n",
       "57             4.9           2.4            3.3           1.0\n",
       "124            6.7           3.3            5.7           2.1\n",
       "143            6.8           3.2            5.9           2.3\n",
       "69             5.6           2.5            3.9           1.1\n",
       "40             5.0           3.5            1.3           0.3\n",
       "82             5.8           2.7            3.9           1.2\n",
       "76             6.8           2.8            4.8           1.4\n",
       "51             6.4           3.2            4.5           1.5\n",
       "141            6.9           3.1            5.1           2.3\n",
       "7              5.0           3.4            1.5           0.2\n",
       "13             4.3           3.0            1.1           0.1"
      ]
     },
     "execution_count": 43,
     "metadata": {},
     "output_type": "execute_result"
    }
   ],
   "source": [
    "x_test"
   ]
  },
  {
   "cell_type": "code",
   "execution_count": 44,
   "id": "ec0ffa16",
   "metadata": {},
   "outputs": [
    {
     "data": {
      "text/plain": [
       "91     1\n",
       "109    2\n",
       "74     1\n",
       "38     0\n",
       "99     1\n",
       "      ..\n",
       "117    2\n",
       "105    2\n",
       "102    2\n",
       "78     1\n",
       "98     1\n",
       "Name: Species, Length: 120, dtype: int64"
      ]
     },
     "execution_count": 44,
     "metadata": {},
     "output_type": "execute_result"
    }
   ],
   "source": [
    "y_train"
   ]
  },
  {
   "cell_type": "code",
   "execution_count": 45,
   "id": "cec0b894",
   "metadata": {},
   "outputs": [
    {
     "data": {
      "text/plain": [
       "0      0\n",
       "75     1\n",
       "125    2\n",
       "12     0\n",
       "106    2\n",
       "138    2\n",
       "19     0\n",
       "30     0\n",
       "149    2\n",
       "29     0\n",
       "84     1\n",
       "20     0\n",
       "1      0\n",
       "144    2\n",
       "45     0\n",
       "139    2\n",
       "58     1\n",
       "133    2\n",
       "42     0\n",
       "57     1\n",
       "124    2\n",
       "143    2\n",
       "69     1\n",
       "40     0\n",
       "82     1\n",
       "76     1\n",
       "51     1\n",
       "141    2\n",
       "7      0\n",
       "13     0\n",
       "Name: Species, dtype: int64"
      ]
     },
     "execution_count": 45,
     "metadata": {},
     "output_type": "execute_result"
    }
   ],
   "source": [
    "y_test"
   ]
  },
  {
   "cell_type": "markdown",
   "id": "136a6b51",
   "metadata": {},
   "source": [
    "## Implementation of KNN"
   ]
  },
  {
   "cell_type": "code",
   "execution_count": 46,
   "id": "b2d73efd",
   "metadata": {},
   "outputs": [],
   "source": [
    "y_pred=KnearestNeighbour(x_train,y_train,x_test,3)"
   ]
  },
  {
   "cell_type": "code",
   "execution_count": 47,
   "id": "c239dc03",
   "metadata": {},
   "outputs": [
    {
     "data": {
      "text/plain": [
       "[0,\n",
       " 1,\n",
       " 2,\n",
       " 0,\n",
       " 1,\n",
       " 2,\n",
       " 0,\n",
       " 0,\n",
       " 2,\n",
       " 0,\n",
       " 1,\n",
       " 0,\n",
       " 0,\n",
       " 2,\n",
       " 0,\n",
       " 2,\n",
       " 1,\n",
       " 1,\n",
       " 0,\n",
       " 1,\n",
       " 2,\n",
       " 2,\n",
       " 1,\n",
       " 0,\n",
       " 1,\n",
       " 1,\n",
       " 1,\n",
       " 2,\n",
       " 0,\n",
       " 0]"
      ]
     },
     "execution_count": 47,
     "metadata": {},
     "output_type": "execute_result"
    }
   ],
   "source": [
    "y_pred"
   ]
  },
  {
   "cell_type": "code",
   "execution_count": 48,
   "id": "66388e2e",
   "metadata": {},
   "outputs": [
    {
     "name": "stdout",
     "output_type": "stream",
     "text": [
      "y_pred and y_test are not same\n"
     ]
    }
   ],
   "source": [
    "#checking if y_pred and y_test are same\n",
    "if(y_pred==list(y_test)):\n",
    "    print(\"y_pred and y_test are same\")\n",
    "else:\n",
    "    print(\"y_pred and y_test are not same\")"
   ]
  },
  {
   "cell_type": "code",
   "execution_count": 49,
   "id": "d2887083",
   "metadata": {},
   "outputs": [
    {
     "name": "stdout",
     "output_type": "stream",
     "text": [
      "Accuracy = 0.9333333333333333\n",
      "Precision = 0.9333333333333332\n",
      "F1 = 0.9259259259259259\n",
      "Recall = 0.9333333333333332\n"
     ]
    }
   ],
   "source": [
    "#checking metrices\n",
    "accuracy=accuracy_score(y_test,y_pred)\n",
    "precision=precision_score(y_test,y_pred,average='macro')\n",
    "f1=f1_score(y_test,y_pred,average='macro')\n",
    "recall=recall_score(y_test,y_pred,average='macro')\n",
    "print(\"Accuracy =\",accuracy)\n",
    "print(\"Precision =\",precision)\n",
    "print(\"F1 =\",f1)\n",
    "print(\"Recall =\",recall)"
   ]
  },
  {
   "cell_type": "markdown",
   "id": "2fa55339",
   "metadata": {},
   "source": [
    "### Seeing good metrices"
   ]
  },
  {
   "cell_type": "code",
   "execution_count": 50,
   "id": "469d264e",
   "metadata": {},
   "outputs": [
    {
     "data": {
      "text/plain": [
       "<Axes: >"
      ]
     },
     "execution_count": 50,
     "metadata": {},
     "output_type": "execute_result"
    },
    {
     "data": {
      "image/png": "[encoded data removed]",
      "text/plain": [
       "<Figure size 640x480 with 2 Axes>"
      ]
     },
     "metadata": {},
     "output_type": "display_data"
    }
   ],
   "source": [
    "cm=confusion_matrix(y_test,y_pred)\n",
    "sns.heatmap(cm,annot=True)"
   ]
  },
  {
   "cell_type": "markdown",
   "id": "f9114520",
   "metadata": {},
   "source": [
    "## For Prediction with Random Unknown Data"
   ]
  },
  {
   "cell_type": "code",
   "execution_count": 51,
   "id": "db08d6e1",
   "metadata": {},
   "outputs": [],
   "source": [
    "def Knnpredict(test,X,y,k):#X is dependent features and y is target variable\n",
    "    #Using complete dataframe of depenedent features for good classification(with good accuracy) \n",
    "    class_0=0\n",
    "    class_1=0\n",
    "    class_2=0\n",
    "    dist=[]\n",
    "    for j in range(X.shape[0]):\n",
    "        d=euclidist(X.iloc[j],test)\n",
    "        dist.append([d,y.iloc[j]])#for each distance and label(class of it)\n",
    "    dist=sorted(dist)\n",
    "    dist=dist[:k]#getting only k nearest neighbours\n",
    "    for i in range(len(dist)):\n",
    "        if(dist[i][1]==0):\n",
    "            class_0+=1\n",
    "        elif(dist[i][1]==1):\n",
    "            class_1+=1\n",
    "        else:\n",
    "            class_2+=1\n",
    "    if(class_0>class_1 and class_0>class_2):\n",
    "        y_pred=0\n",
    "    elif(class_1>class_0 and class_1>class_2):\n",
    "        y_pred=1\n",
    "    else:\n",
    "        y_pred=2\n",
    "    if(y_pred==0):\n",
    "        y_pred=\"Iris-setosa\"\n",
    "    elif(y_pred==1):\n",
    "        y_pred=\"Iris-versicolor\"\n",
    "    else:\n",
    "        y_pred=\"Iris-virginica\"\n",
    "    return y_pred"
   ]
  },
  {
   "cell_type": "code",
   "execution_count": 52,
   "id": "e3bb1add",
   "metadata": {},
   "outputs": [],
   "source": [
    "test=[6.7,3.3,5.7,2.1]\n",
    "\n",
    "#Considering a sample with dependent features to test the prediction"
   ]
  },
  {
   "cell_type": "code",
   "execution_count": 53,
   "id": "9fa4ef49",
   "metadata": {},
   "outputs": [],
   "source": [
    "predicted_y=Knnpredict(test,X,y,3)"
   ]
  },
  {
   "cell_type": "code",
   "execution_count": 54,
   "id": "d51cd79d",
   "metadata": {},
   "outputs": [
    {
     "name": "stdout",
     "output_type": "stream",
     "text": [
      "Predicted value of Class for given input is Iris-virginica\n"
     ]
    }
   ],
   "source": [
    "print(f'Predicted value of Class for given input is {predicted_y}')"
   ]
  },
  {
   "cell_type": "code",
   "execution_count": null,
   "id": "6e0db5ef",
   "metadata": {},
   "outputs": [],
   "source": []
  }
 ],
 "metadata": {
  "kernelspec": {
   "display_name": "Python 3 (ipykernel)",
   "language": "python",
   "name": "python3"
  },
  "language_info": {
   "codemirror_mode": {
    "name": "ipython",
    "version": 3
   },
   "file_extension": ".py",
   "mimetype": "text/x-python",
   "name": "python",
   "nbconvert_exporter": "python",
   "pygments_lexer": "ipython3",
   "version": "3.11.5"
  }
 },
 "nbformat": 4,
 "nbformat_minor": 5
}
