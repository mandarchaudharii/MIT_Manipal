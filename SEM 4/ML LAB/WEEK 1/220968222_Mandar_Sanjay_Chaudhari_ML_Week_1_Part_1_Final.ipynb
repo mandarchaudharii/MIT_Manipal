{
 "cells": [
  {
   "cell_type": "markdown",
   "id": "86ac9dbd",
   "metadata": {},
   "source": [
    "# Week 1\n",
    "# Question 1-4"
   ]
  },
  {
   "cell_type": "markdown",
   "id": "505d9df5",
   "metadata": {},
   "source": [
    "# Mandar Sanjay Chaudhari\n",
    "# 220968222\n",
    "# DSE Batch 4 (Sec B - 4th Sem)"
   ]
  },
  {
   "cell_type": "markdown",
   "id": "73af0d5e",
   "metadata": {},
   "source": [
    "### 1. Find the mean, median, mode, variance, and standard deviation of a list. (import statistics) "
   ]
  },
  {
   "cell_type": "code",
   "execution_count": 1,
   "id": "f09be10e",
   "metadata": {},
   "outputs": [
    {
     "name": "stdout",
     "output_type": "stream",
     "text": [
      "Mean: 5\n",
      "Median: 5.0\n",
      "Mode: 5\n",
      "Variance: 6.666666666666667\n",
      "Standard Deviation: 2.581988897471611\n"
     ]
    }
   ],
   "source": [
    "import statistics\n",
    "\n",
    "data = [1, 2, 3, 4, 5, 5, 6, 7, 8, 9]\n",
    "\n",
    "# Mean\n",
    "mean = statistics.mean(data)\n",
    "\n",
    "# Median\n",
    "median = statistics.median(data)\n",
    "\n",
    "# Mode\n",
    "mode = statistics.mode(data)\n",
    "\n",
    "# Variance\n",
    "var = statistics.variance(data)\n",
    "\n",
    "# Standard Deviation\n",
    "stddev = statistics.stdev(data)\n",
    "\n",
    "# Display the results\n",
    "print(\"Mean:\", mean)\n",
    "print(\"Median:\", median)\n",
    "print(\"Mode:\", mode)\n",
    "print(\"Variance:\", var)\n",
    "print(\"Standard Deviation:\", stddev)"
   ]
  },
  {
   "cell_type": "markdown",
   "id": "7e52b353",
   "metadata": {},
   "source": [
    "### 2. Create a list of numbers and use list comprehension to generate a new list with the squares of each number."
   ]
  },
  {
   "cell_type": "code",
   "execution_count": 2,
   "id": "75ce991b",
   "metadata": {},
   "outputs": [
    {
     "name": "stdout",
     "output_type": "stream",
     "text": [
      "Original List: [1, 2, 3, 4, 5]\n",
      "Squares List: [1, 4, 9, 16, 25]\n"
     ]
    }
   ],
   "source": [
    "original = [1, 2, 3, 4, 5]\n",
    "\n",
    "squares = [x**2 for x in original]\n",
    "\n",
    "print(\"Original List:\", original)\n",
    "print(\"Squares List:\", squares)\n"
   ]
  },
  {
   "cell_type": "markdown",
   "id": "dfc07caa",
   "metadata": {},
   "source": [
    "### 3. Write a function that takes a tuple of numbers and returns the product of all the elements. "
   ]
  },
  {
   "cell_type": "code",
   "execution_count": 3,
   "id": "7eb4a569",
   "metadata": {},
   "outputs": [
    {
     "name": "stdout",
     "output_type": "stream",
     "text": [
      "The product of the elements in the tuple (2, 3, 4, 5) is: 120\n"
     ]
    }
   ],
   "source": [
    "def calculate_product(numbers_tuple):\n",
    "    product = 1\n",
    "    for num in numbers_tuple:\n",
    "        product *= num\n",
    "    return product\n",
    "\n",
    "tup = (2, 3, 4, 5)\n",
    "result = calculate_product(tup)\n",
    "\n",
    "print(f\"The product of the elements in the tuple {tup} is: {result}\")\n"
   ]
  },
  {
   "cell_type": "markdown",
   "id": "8805d357",
   "metadata": {},
   "source": [
    "### 4. Write a program that counts the frequency of each letter in each string and stores the results in a dictionary."
   ]
  },
  {
   "cell_type": "code",
   "execution_count": 4,
   "id": "3290ab4b",
   "metadata": {
    "scrolled": true
   },
   "outputs": [
    {
     "name": "stdout",
     "output_type": "stream",
     "text": [
      "Letter Frequencies:\n",
      "h: 2\n",
      "e: 1\n",
      "l: 3\n",
      "o: 4\n",
      "w: 1\n",
      "r: 3\n",
      "d: 1\n",
      "p: 2\n",
      "y: 1\n",
      "t: 1\n",
      "n: 2\n",
      "g: 2\n",
      "a: 1\n",
      "m: 2\n",
      "i: 1\n"
     ]
    }
   ],
   "source": [
    "def count_letter_frequency(strings):\n",
    "\n",
    "    letter_frequency_dict = {}\n",
    "\n",
    "    for string in strings: \n",
    "        for char in string:  \n",
    "            if char.isalpha():    \n",
    "                char = char.lower()   \n",
    "                letter_frequency_dict[char] = letter_frequency_dict.get(char, 0) + 1\n",
    "    return letter_frequency_dict\n",
    "\n",
    "input_strings = [\"Hello\", \"World\", \"Python\", \"Programming\"]\n",
    "result = count_letter_frequency(input_strings)\n",
    "\n",
    "print(\"Letter Frequencies:\")\n",
    "for letter, frequency in result.items():\n",
    "    print(f\"{letter}: {frequency}\")\n"
   ]
  }
 ],
 "metadata": {
  "kernelspec": {
   "display_name": "Python 3 (ipykernel)",
   "language": "python",
   "name": "python3"
  },
  "language_info": {
   "codemirror_mode": {
    "name": "ipython",
    "version": 3
   },
   "file_extension": ".py",
   "mimetype": "text/x-python",
   "name": "python",
   "nbconvert_exporter": "python",
   "pygments_lexer": "ipython3",
   "version": "3.11.5"
  }
 },
 "nbformat": 4,
 "nbformat_minor": 5
}
