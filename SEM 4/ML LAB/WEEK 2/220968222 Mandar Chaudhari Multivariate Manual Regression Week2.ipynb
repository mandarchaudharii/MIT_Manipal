{
 "cells": [
  {
   "cell_type": "markdown",
   "id": "78180856",
   "metadata": {},
   "source": [
    "# Mandar Sanjay Chaudhari\n",
    "# 220968222\n",
    "# Section B Batch B4\n",
    "# Week 2\n",
    "# Manual Multivariate Regression"
   ]
  },
  {
   "cell_type": "code",
   "execution_count": 1,
   "id": "7535d08a",
   "metadata": {},
   "outputs": [],
   "source": [
    "import pandas as pd\n",
    "import numpy as np\n",
    "import matplotlib.pyplot as plt"
   ]
  },
  {
   "cell_type": "code",
   "execution_count": 2,
   "id": "b2a48841",
   "metadata": {},
   "outputs": [
    {
     "data": {
      "text/html": [
       "<div>\n",
       "<style scoped>\n",
       "    .dataframe tbody tr th:only-of-type {\n",
       "        vertical-align: middle;\n",
       "    }\n",
       "\n",
       "    .dataframe tbody tr th {\n",
       "        vertical-align: top;\n",
       "    }\n",
       "\n",
       "    .dataframe thead th {\n",
       "        text-align: right;\n",
       "    }\n",
       "</style>\n",
       "<table border=\"1\" class=\"dataframe\">\n",
       "  <thead>\n",
       "    <tr style=\"text-align: right;\">\n",
       "      <th></th>\n",
       "      <th>Subject</th>\n",
       "      <th>Y</th>\n",
       "      <th>X1</th>\n",
       "      <th>X2</th>\n",
       "    </tr>\n",
       "  </thead>\n",
       "  <tbody>\n",
       "    <tr>\n",
       "      <th>0</th>\n",
       "      <td>1</td>\n",
       "      <td>-3.7</td>\n",
       "      <td>3</td>\n",
       "      <td>8</td>\n",
       "    </tr>\n",
       "    <tr>\n",
       "      <th>1</th>\n",
       "      <td>2</td>\n",
       "      <td>3.5</td>\n",
       "      <td>4</td>\n",
       "      <td>5</td>\n",
       "    </tr>\n",
       "    <tr>\n",
       "      <th>2</th>\n",
       "      <td>3</td>\n",
       "      <td>2.5</td>\n",
       "      <td>5</td>\n",
       "      <td>7</td>\n",
       "    </tr>\n",
       "    <tr>\n",
       "      <th>3</th>\n",
       "      <td>4</td>\n",
       "      <td>11.5</td>\n",
       "      <td>6</td>\n",
       "      <td>3</td>\n",
       "    </tr>\n",
       "    <tr>\n",
       "      <th>4</th>\n",
       "      <td>5</td>\n",
       "      <td>5.7</td>\n",
       "      <td>2</td>\n",
       "      <td>1</td>\n",
       "    </tr>\n",
       "  </tbody>\n",
       "</table>\n",
       "</div>"
      ],
      "text/plain": [
       "   Subject     Y  X1  X2\n",
       "0        1  -3.7   3   8\n",
       "1        2   3.5   4   5\n",
       "2        3   2.5   5   7\n",
       "3        4  11.5   6   3\n",
       "4        5   5.7   2   1"
      ]
     },
     "execution_count": 2,
     "metadata": {},
     "output_type": "execute_result"
    }
   ],
   "source": [
    "df=pd.read_excel('multivariate.xlsx')\n",
    "df"
   ]
  },
  {
   "cell_type": "code",
   "execution_count": 3,
   "id": "74656d1e",
   "metadata": {},
   "outputs": [
    {
     "data": {
      "text/plain": [
       "array([3, 4, 5, 6, 2], dtype=int64)"
      ]
     },
     "execution_count": 3,
     "metadata": {},
     "output_type": "execute_result"
    }
   ],
   "source": [
    "x1 = np.array(df['X1'])\n",
    "x1"
   ]
  },
  {
   "cell_type": "code",
   "execution_count": 4,
   "id": "65571d20",
   "metadata": {},
   "outputs": [
    {
     "data": {
      "text/plain": [
       "array([8, 5, 7, 3, 1], dtype=int64)"
      ]
     },
     "execution_count": 4,
     "metadata": {},
     "output_type": "execute_result"
    }
   ],
   "source": [
    "x2 = np.array(df['X2'])\n",
    "x2"
   ]
  },
  {
   "cell_type": "code",
   "execution_count": 5,
   "id": "8169b44f",
   "metadata": {},
   "outputs": [
    {
     "data": {
      "text/plain": [
       "array([-3.7,  3.5,  2.5, 11.5,  5.7])"
      ]
     },
     "execution_count": 5,
     "metadata": {},
     "output_type": "execute_result"
    }
   ],
   "source": [
    "y = np.array(df['Y'])\n",
    "y"
   ]
  },
  {
   "cell_type": "code",
   "execution_count": 6,
   "id": "25e9da1b",
   "metadata": {},
   "outputs": [
    {
     "name": "stdout",
     "output_type": "stream",
     "text": [
      "x1x2 =  [24 20 35 18  2]\n",
      "x1x1 =  [ 9 16 25 36  4]\n",
      "x2x2 =  [64 25 49  9  1]\n",
      "x1y =  [-11.1  14.   12.5  69.   11.4]\n",
      "x2y =  [-29.6  17.5  17.5  34.5   5.7]\n"
     ]
    }
   ],
   "source": [
    "x1x2 = x1 * x2\n",
    "\n",
    "x1x1 = x1 * x1\n",
    "\n",
    "x2x2 = x2 * x2\n",
    "\n",
    "x1y = x1 * y\n",
    "\n",
    "x2y = x2 * y\n",
    "\n",
    "print('x1x2 = ', x1x2)\n",
    "print('x1x1 = ', x1x1)\n",
    "print('x2x2 = ', x2x2)\n",
    "print('x1y = ', x1y)\n",
    "print('x2y = ', x2y)"
   ]
  },
  {
   "cell_type": "code",
   "execution_count": 7,
   "id": "e4af72c3",
   "metadata": {},
   "outputs": [
    {
     "name": "stdout",
     "output_type": "stream",
     "text": [
      "sum_x12 =  10.0\n",
      "sum_x22 =  32.8\n",
      "sum_x1y =  17.80000000000001\n",
      "sum_x2y =  -47.99999999999999\n",
      "sum_x1x2 =  3.0\n"
     ]
    }
   ],
   "source": [
    "sum_x12 = np.sum(x1x1) - ((np.sum(x1) * np.sum(x1)) / len(x1))\n",
    "\n",
    "sum_x22 = np.sum(x2x2) - ((np.sum(x2) * np.sum(x2)) / len(x2))\n",
    "\n",
    "sum_x1y = np.sum(x1y) - ((np.sum(x1) * np.sum(y)) / len(x1))\n",
    "\n",
    "sum_x2y = np.sum(x2y) - ((np.sum(x2) * np.sum(y)) / len(x2))\n",
    "\n",
    "sum_x1x2 = np.sum(x1x2) - ((np.sum(x1) * np.sum(x2)) / len(x2))\n",
    "\n",
    "print('sum_x12 = ', sum_x12)\n",
    "print('sum_x22 = ', sum_x22)\n",
    "print('sum_x1y = ', sum_x1y)\n",
    "print('sum_x2y = ', sum_x2y)\n",
    "print('sum_x1x2 = ', sum_x1x2)"
   ]
  },
  {
   "cell_type": "code",
   "execution_count": 8,
   "id": "6eed50ab",
   "metadata": {},
   "outputs": [
    {
     "name": "stdout",
     "output_type": "stream",
     "text": [
      "b1 =  2.2816300940438885\n",
      "b2 =  -1.6721003134796237\n",
      "a =  2.7995611285266406\n"
     ]
    }
   ],
   "source": [
    "b1 = (((sum_x22) * (sum_x1y)) - ((sum_x1x2) * (sum_x2y))) / (((sum_x12) * (sum_x22)) - ((sum_x1x2) * (sum_x1x2)))\n",
    "\n",
    "b2 = (((sum_x12) * (sum_x2y)) - ((sum_x1x2) * (sum_x1y))) / (((sum_x12) * (sum_x22)) - ((sum_x1x2) * (sum_x1x2)))\n",
    "\n",
    "a = np.mean(y) - (b1*(np.mean(x1))) - (b2*(np.mean(x2)))\n",
    "\n",
    "print('b1 = ' , b1)\n",
    "print('b2 = ' , b2)\n",
    "print('a = ' , a)"
   ]
  },
  {
   "cell_type": "code",
   "execution_count": 9,
   "id": "8505b72d",
   "metadata": {},
   "outputs": [
    {
     "data": {
      "text/plain": [
       "array([-3.7323511 ,  3.56557994,  2.5030094 , 11.47304075,  5.690721  ])"
      ]
     },
     "execution_count": 9,
     "metadata": {},
     "output_type": "execute_result"
    }
   ],
   "source": [
    "#Regression Equation is\n",
    "\n",
    "y = a + (b1*x1) + (b2*x2)\n",
    "y"
   ]
  },
  {
   "cell_type": "code",
   "execution_count": 10,
   "id": "8a0d5a86",
   "metadata": {},
   "outputs": [
    {
     "data": {
      "text/plain": [
       "6.300250783699058"
      ]
     },
     "execution_count": 10,
     "metadata": {},
     "output_type": "execute_result"
    }
   ],
   "source": [
    "#Prediction\n",
    "x1 = 3\n",
    "x2 = 2\n",
    "y = a + (b1*x1) + (b2*x2)\n",
    "y"
   ]
  },
  {
   "cell_type": "markdown",
   "id": "8f8de894",
   "metadata": {},
   "source": [
    "# Using Random Integer"
   ]
  },
  {
   "cell_type": "code",
   "execution_count": 11,
   "id": "f9f007ae",
   "metadata": {},
   "outputs": [
    {
     "data": {
      "text/plain": [
       "array([1, 1, 2, 4, 6, 1, 9, 8, 1, 6])"
      ]
     },
     "execution_count": 11,
     "metadata": {},
     "output_type": "execute_result"
    }
   ],
   "source": [
    "x1 = np.random.randint(1, high=10,size=10)\n",
    "x1"
   ]
  },
  {
   "cell_type": "code",
   "execution_count": 12,
   "id": "af29f4d8",
   "metadata": {},
   "outputs": [
    {
     "data": {
      "text/plain": [
       "array([2, 5, 8, 1, 1, 2, 8, 9, 1, 8])"
      ]
     },
     "execution_count": 12,
     "metadata": {},
     "output_type": "execute_result"
    }
   ],
   "source": [
    "x2=np.random.randint(1,high=10,size=10)\n",
    "x2"
   ]
  },
  {
   "cell_type": "code",
   "execution_count": 13,
   "id": "4ae7bf33",
   "metadata": {},
   "outputs": [
    {
     "data": {
      "text/plain": [
       "array([4, 5, 4, 8, 5, 8, 6, 2, 9, 7])"
      ]
     },
     "execution_count": 13,
     "metadata": {},
     "output_type": "execute_result"
    }
   ],
   "source": [
    "y=np.random.randint(1,high=10,size=10)\n",
    "y"
   ]
  },
  {
   "cell_type": "code",
   "execution_count": 14,
   "id": "d6b8da14",
   "metadata": {},
   "outputs": [
    {
     "name": "stdout",
     "output_type": "stream",
     "text": [
      "x1x2 =  [ 2  5 16  4  6  2 72 72  1 48]\n",
      "x1x1 =  [ 1  1  4 16 36  1 81 64  1 36]\n",
      "x2x2 =  [ 4 25 64  1  1  4 64 81  1 64]\n",
      "x1y =  [ 4  5  8 32 30  8 54 16  9 42]\n",
      "x2y =  [ 8 25 32  8  5 16 48 18  9 56]\n"
     ]
    }
   ],
   "source": [
    "x1x2 = x1 * x2\n",
    "\n",
    "x1x1 = x1 * x1\n",
    "\n",
    "x2x2 = x2 * x2\n",
    "\n",
    "x1y = x1 * y\n",
    "\n",
    "x2y = x2 * y\n",
    "\n",
    "print('x1x2 = ', x1x2)\n",
    "print('x1x1 = ', x1x1)\n",
    "print('x2x2 = ', x2x2)\n",
    "print('x1y = ', x1y)\n",
    "print('x2y = ', x2y)"
   ]
  },
  {
   "cell_type": "code",
   "execution_count": 15,
   "id": "64d1009f",
   "metadata": {},
   "outputs": [
    {
     "name": "stdout",
     "output_type": "stream",
     "text": [
      "sum_x12 =  88.9\n",
      "sum_x22 =  106.5\n",
      "sum_x1y =  -18.19999999999999\n",
      "sum_x2y =  -36.0\n",
      "sum_x1x2 =  52.5\n"
     ]
    }
   ],
   "source": [
    "sum_x12 = np.sum(x1x1) - ((np.sum(x1) * np.sum(x1)) / len(x1))\n",
    "\n",
    "sum_x22 = np.sum(x2x2) - ((np.sum(x2) * np.sum(x2)) / len(x2))\n",
    "\n",
    "sum_x1y = np.sum(x1y) - ((np.sum(x1) * np.sum(y)) / len(x1))\n",
    "\n",
    "sum_x2y = np.sum(x2y) - ((np.sum(x2) * np.sum(y)) / len(x2))\n",
    "\n",
    "sum_x1x2 = np.sum(x1x2) - ((np.sum(x1) * np.sum(x2)) / len(x2))\n",
    "\n",
    "print('sum_x12 = ', sum_x12)\n",
    "print('sum_x22 = ', sum_x22)\n",
    "print('sum_x1y = ', sum_x1y)\n",
    "print('sum_x2y = ', sum_x2y)\n",
    "print('sum_x1x2 = ', sum_x1x2)"
   ]
  },
  {
   "cell_type": "code",
   "execution_count": 16,
   "id": "2a9d5493",
   "metadata": {},
   "outputs": [
    {
     "name": "stdout",
     "output_type": "stream",
     "text": [
      "b1 =  -0.007196495619524229\n",
      "b2 =  -0.3344806007509387\n",
      "a =  7.333229036295369\n"
     ]
    }
   ],
   "source": [
    "b1 = (((sum_x22) * (sum_x1y)) - ((sum_x1x2) * (sum_x2y))) / (((sum_x12) * (sum_x22)) - ((sum_x1x2) * (sum_x1x2)))\n",
    "\n",
    "b2 = (((sum_x12) * (sum_x2y)) - ((sum_x1x2) * (sum_x1y))) / (((sum_x12) * (sum_x22)) - ((sum_x1x2) * (sum_x1x2)))\n",
    "\n",
    "a = np.mean(y) - (b1*(np.mean(x1))) - (b2*(np.mean(x2)))\n",
    "\n",
    "print('b1 = ' , b1)\n",
    "print('b2 = ' , b2)\n",
    "print('a = ' , a)"
   ]
  },
  {
   "cell_type": "code",
   "execution_count": 17,
   "id": "77a593dc",
   "metadata": {},
   "outputs": [
    {
     "data": {
      "text/plain": [
       "array([6.65707134, 5.65362954, 4.64299124, 6.96996245, 6.95556946,\n",
       "       6.65707134, 4.59261577, 4.26533166, 6.99155194, 4.61420526])"
      ]
     },
     "execution_count": 17,
     "metadata": {},
     "output_type": "execute_result"
    }
   ],
   "source": [
    "#Regression Equation is\n",
    "\n",
    "y_pred = a + (b1*x1) + (b2*x2)\n",
    "y_pred"
   ]
  },
  {
   "cell_type": "code",
   "execution_count": 18,
   "id": "9c8fe59d",
   "metadata": {},
   "outputs": [
    {
     "data": {
      "text/plain": [
       "6.642678347934918"
      ]
     },
     "execution_count": 18,
     "metadata": {},
     "output_type": "execute_result"
    }
   ],
   "source": [
    "#Prediction\n",
    "x1 = 3\n",
    "x2 = 2\n",
    "\n",
    "y_pred = a + (b1*x1) + (b2*x2)\n",
    "y_pred"
   ]
  },
  {
   "cell_type": "markdown",
   "id": "fe1c3268",
   "metadata": {},
   "source": [
    "# Using Random Float"
   ]
  },
  {
   "cell_type": "code",
   "execution_count": 19,
   "id": "c1985bd6",
   "metadata": {},
   "outputs": [
    {
     "data": {
      "text/plain": [
       "array([5.78, 2.02, 1.48, 8.76, 6.1 , 4.62, 8.5 , 5.33, 7.02, 1.64])"
      ]
     },
     "execution_count": 19,
     "metadata": {},
     "output_type": "execute_result"
    }
   ],
   "source": [
    "x1 = np.round(np.random.uniform(1, 10, 10), 2)\n",
    "x1"
   ]
  },
  {
   "cell_type": "code",
   "execution_count": 20,
   "id": "8de1b925",
   "metadata": {},
   "outputs": [
    {
     "data": {
      "text/plain": [
       "array([2.2 , 8.01, 5.5 , 1.46, 4.5 , 1.36, 7.77, 7.58, 3.37, 3.35])"
      ]
     },
     "execution_count": 20,
     "metadata": {},
     "output_type": "execute_result"
    }
   ],
   "source": [
    "x2 = np.round(np.random.uniform(1, 10, 10), 2)\n",
    "x2"
   ]
  },
  {
   "cell_type": "code",
   "execution_count": 21,
   "id": "c9c18c8e",
   "metadata": {},
   "outputs": [
    {
     "data": {
      "text/plain": [
       "array([9.76, 7.8 , 7.96, 3.05, 3.46, 1.61, 5.74, 6.78, 2.52, 2.54])"
      ]
     },
     "execution_count": 21,
     "metadata": {},
     "output_type": "execute_result"
    }
   ],
   "source": [
    "y = np.round(np.random.uniform(1, 10, 10), 2)\n",
    "y"
   ]
  },
  {
   "cell_type": "code",
   "execution_count": 22,
   "id": "1054673f",
   "metadata": {},
   "outputs": [
    {
     "name": "stdout",
     "output_type": "stream",
     "text": [
      "x1x2 =  [12.716  16.1802  8.14   12.7896 27.45    6.2832 66.045  40.4014 23.6574\n",
      "  5.494 ]\n",
      "x1x1 =  [33.4084  4.0804  2.1904 76.7376 37.21   21.3444 72.25   28.4089 49.2804\n",
      "  2.6896]\n",
      "x2x2 =  [ 4.84   64.1601 30.25    2.1316 20.25    1.8496 60.3729 57.4564 11.3569\n",
      " 11.2225]\n",
      "x1y =  [56.4128 15.756  11.7808 26.718  21.106   7.4382 48.79   36.1374 17.6904\n",
      "  4.1656]\n",
      "x2y =  [21.472  62.478  43.78    4.453  15.57    2.1896 44.5998 51.3924  8.4924\n",
      "  8.509 ]\n"
     ]
    }
   ],
   "source": [
    "x1x2 = x1 * x2\n",
    "\n",
    "x1x1 = x1 * x1\n",
    "\n",
    "x2x2 = x2 * x2\n",
    "\n",
    "x1y = x1 * y\n",
    "\n",
    "x2y = x2 * y\n",
    "\n",
    "print('x1x2 = ', x1x2)\n",
    "print('x1x1 = ', x1x1)\n",
    "print('x2x2 = ', x2x2)\n",
    "print('x1y = ', x1y)\n",
    "print('x2y = ', x2y)"
   ]
  },
  {
   "cell_type": "code",
   "execution_count": 23,
   "id": "753e7c05",
   "metadata": {},
   "outputs": [
    {
     "name": "stdout",
     "output_type": "stream",
     "text": [
      "sum_x12 =  64.94384999999994\n",
      "sum_x22 =  60.488999999999976\n",
      "sum_x1y =  -16.507299999999958\n",
      "sum_x2y =  31.933999999999997\n",
      "sum_x1x2 =  -11.980699999999985\n"
     ]
    }
   ],
   "source": [
    "sum_x12 = np.sum(x1x1) - ((np.sum(x1) * np.sum(x1)) / len(x1))\n",
    "\n",
    "sum_x22 = np.sum(x2x2) - ((np.sum(x2) * np.sum(x2)) / len(x2))\n",
    "\n",
    "sum_x1y = np.sum(x1y) - ((np.sum(x1) * np.sum(y)) / len(x1))\n",
    "\n",
    "sum_x2y = np.sum(x2y) - ((np.sum(x2) * np.sum(y)) / len(x2))\n",
    "\n",
    "sum_x1x2 = np.sum(x1x2) - ((np.sum(x1) * np.sum(x2)) / len(x2))\n",
    "\n",
    "print('sum_x12 = ', sum_x12)\n",
    "print('sum_x22 = ', sum_x22)\n",
    "print('sum_x1y = ', sum_x1y)\n",
    "print('sum_x2y = ', sum_x2y)\n",
    "print('sum_x1x2 = ', sum_x1x2)"
   ]
  },
  {
   "cell_type": "code",
   "execution_count": 24,
   "id": "6a68f041",
   "metadata": {},
   "outputs": [
    {
     "name": "stdout",
     "output_type": "stream",
     "text": [
      "b1 =  -0.1627325185754814\n",
      "b2 =  0.49569922654867404\n",
      "a =  3.720400645964822\n"
     ]
    }
   ],
   "source": [
    "b1 = (((sum_x22) * (sum_x1y)) - ((sum_x1x2) * (sum_x2y))) / (((sum_x12) * (sum_x22)) - ((sum_x1x2) * (sum_x1x2)))\n",
    "\n",
    "b2 = (((sum_x12) * (sum_x2y)) - ((sum_x1x2) * (sum_x1y))) / (((sum_x12) * (sum_x22)) - ((sum_x1x2) * (sum_x1x2)))\n",
    "\n",
    "a = np.mean(y) - (b1*(np.mean(x1))) - (b2*(np.mean(x2)))\n",
    "\n",
    "print('b1 = ' , b1)\n",
    "print('b2 = ' , b2)\n",
    "print('a = ' , a)"
   ]
  },
  {
   "cell_type": "code",
   "execution_count": 25,
   "id": "f05f9a54",
   "metadata": {},
   "outputs": [
    {
     "name": "stdout",
     "output_type": "stream",
     "text": [
      "The regression equation is: y_pred =  3.720400645964822 + -0.1627325185754814*x1 + 0.49569922654867404*x2\n"
     ]
    }
   ],
   "source": [
    "#Regression Equation is\n",
    "\n",
    "y_pred = a + (b1*x1) + (b2*x2)\n",
    "\n",
    "s = str(a)+\" + \"+str(b1)+\"*x1 \"+\"+ \"+str(b2)+\"*x2\"\n",
    "print(\"The regression equation is: y_pred = \",s)"
   ]
  },
  {
   "cell_type": "code",
   "execution_count": 26,
   "id": "f707e0ee",
   "metadata": {},
   "outputs": [
    {
     "data": {
      "text/plain": [
       "4.223601543335726"
      ]
     },
     "execution_count": 26,
     "metadata": {},
     "output_type": "execute_result"
    }
   ],
   "source": [
    "#Prediction\n",
    "X1 = 3\n",
    "X2 = 2\n",
    "\n",
    "y_pred = a + (b1*X1) + (b2*X2)\n",
    "y_pred"
   ]
  }
 ],
 "metadata": {
  "kernelspec": {
   "display_name": "Python 3 (ipykernel)",
   "language": "python",
   "name": "python3"
  },
  "language_info": {
   "codemirror_mode": {
    "name": "ipython",
    "version": 3
   },
   "file_extension": ".py",
   "mimetype": "text/x-python",
   "name": "python",
   "nbconvert_exporter": "python",
   "pygments_lexer": "ipython3",
   "version": "3.11.5"
  }
 },
 "nbformat": 4,
 "nbformat_minor": 5
}
